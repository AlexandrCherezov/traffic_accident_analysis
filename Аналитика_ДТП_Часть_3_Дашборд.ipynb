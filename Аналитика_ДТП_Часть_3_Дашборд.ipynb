{
  "nbformat": 4,
  "nbformat_minor": 0,
  "metadata": {
    "colab": {
      "provenance": [],
      "toc_visible": true
    },
    "kernelspec": {
      "name": "python3",
      "display_name": "Python 3"
    },
    "language_info": {
      "name": "python"
    }
  },
  "cells": [
    {
      "cell_type": "markdown",
      "metadata": {
        "id": "K8pQbj9n_qzI"
      },
      "source": [
        "# **Аналитика ДТП**\n",
        "Заказчиком выступает проект [«Карта ДТП»](https://dtp-stat.ru/) — некоммерческий проект, посвященный проблеме дорожно-транспортных происшествий в России.\n",
        "\n",
        "## Часть 3. Построение дашборда\n",
        "\n",
        "[Ссылка на дашбород](https://datalens.yandex/s1rbmtass104g)\n",
        "\n"
      ]
    },
    {
      "cell_type": "markdown",
      "metadata": {
        "id": "MHSpOIBu_qzO"
      },
      "source": [
        "# Постановка задачи и ход исследования\n",
        "\n",
        "**Цель:**  \n",
        "\n",
        "Провести глубокий анализ данных, сформулировать и проверить гипотезы, опираясь на доступные признаки.\n",
        "\n",
        "**Описание задачи**:\n",
        "- Провести исследовательский анализ данных о дорожно-транспортных происшествиях (ДТП).\n",
        "- Сформулировать и проверить гипотезы, основываясь на имеющихся признаках.\n",
        "- Построить дашборд используя любой удобный инструмент, с учетом того, что дашборд может быть опубликован\n",
        "\n",
        "**В исследовании:**\n",
        "\n",
        "В **Части 1** мы провели:\n",
        "- Загрузку данных из предоставленных файлов\n",
        "- Чтение и обработку данных в столбцах в форматах json и в списках\n",
        "- Формирование новых датафреймов, содержащих:\n",
        "  - данные о транспортных средствах, участвовавших в ДТП\n",
        "  - о водителях, пассажирах и пешеходах, участвовавших в ДТП\n",
        "- Обработку данных, изменение типов данных для уменьшения размера занимаемой оперативной памяти\n",
        "- Формирование трех сводных датасетов, ообъединяющих в себе данные по всем регионам и соджержащие в себе:\n",
        "  - данные о ДТП\n",
        "  - данные о транспортных средствах, участвовавших в ДТП\n",
        "  - о водителях, пассажирах и пешеходах, участвовавших в ДТП  \n",
        "- Изучение общей информации о датафрейме\n",
        "- Выгрузку на диск сводных датасетов в виде файлов формата .pickle\n",
        "\n",
        "В **части 2**  мы провели:\n",
        "- исследовательский анализ данных\n",
        "- формирование и проверку гипотез:\n",
        "  - В большинстве случаев виноваты пьяные водители, нужно усилить контроль\n",
        "  - Безопасность на дорогах растет для каждого из участников\n",
        "  - В личном автомобиле ехать безопаснее чем в автобусе\n",
        "  - Если пешеходы не будут нарушать, то не будут гибнуть\n",
        "  - Низкая скорость не влияет на тяжесть ДТП\n",
        "\n",
        "В **части 3** (в этой тетрадке)\n",
        "- построим дашборд средствами DataLens"
      ]
    },
    {
      "cell_type": "code",
      "source": [
        "pip install dill --quiet"
      ],
      "metadata": {
        "id": "Ekkr-rw76U7_",
        "colab": {
          "base_uri": "https://localhost:8080/"
        },
        "outputId": "1ebd5d7e-5efb-41ec-b000-b23ea4a7a76c"
      },
      "execution_count": null,
      "outputs": [
        {
          "output_type": "stream",
          "name": "stdout",
          "text": [
            "\u001b[?25l     \u001b[90m━━━━━━━━━━━━━━━━━━━━━━━━━━━━━━━━━━━━━━━━\u001b[0m \u001b[32m0.0/116.3 kB\u001b[0m \u001b[31m?\u001b[0m eta \u001b[36m-:--:--\u001b[0m\r\u001b[2K     \u001b[91m━━━━━━━━━━━━━━━━━━━━━\u001b[0m\u001b[90m╺\u001b[0m\u001b[90m━━━━━━━━━━━━━━━━━━\u001b[0m \u001b[32m61.4/116.3 kB\u001b[0m \u001b[31m2.3 MB/s\u001b[0m eta \u001b[36m0:00:01\u001b[0m\r\u001b[2K     \u001b[90m━━━━━━━━━━━━━━━━━━━━━━━━━━━━━━━━━━━━━━━━\u001b[0m \u001b[32m116.3/116.3 kB\u001b[0m \u001b[31m1.9 MB/s\u001b[0m eta \u001b[36m0:00:00\u001b[0m\n",
            "\u001b[?25h"
          ]
        }
      ]
    },
    {
      "cell_type": "code",
      "execution_count": null,
      "metadata": {
        "colab": {
          "base_uri": "https://localhost:8080/"
        },
        "id": "LsgH7qdXmIFv",
        "outputId": "643ea235-774c-417d-ca62-1ca6b0c8de1b"
      },
      "outputs": [
        {
          "output_type": "stream",
          "name": "stdout",
          "text": [
            "Mounted at /content/drive\n"
          ]
        }
      ],
      "source": [
        "# для извлечения и анализа данных\n",
        "import pandas as pd\n",
        "import os\n",
        "#from pandas_geojson import read_geojson\n",
        "import re\n",
        "import requests\n",
        "from tqdm import tqdm\n",
        "from google.colab import drive\n",
        "drive.mount('/content/drive')\n",
        "import warnings\n",
        "import time # для расчета времени обработки ноутбука\n",
        "#import logging\n",
        "import dill as pickle # для сериализации объектов и сохранения данных в формате .pickle\n",
        "import json\n",
        "import matplotlib.pyplot as plt\n",
        "\n",
        "# настройка отображения\n",
        "pd.options.display.max_columns = 30"
      ]
    },
    {
      "cell_type": "code",
      "source": [
        "# Перейдем в рабочую папку\n",
        "os.chdir('/content/drive/MyDrive/Мастерская_Аналитика_ДТП')"
      ],
      "metadata": {
        "id": "5DHnWnN-48VX"
      },
      "execution_count": null,
      "outputs": []
    },
    {
      "cell_type": "code",
      "source": [
        "# Ознакомимся, какие файлы с данными сохранены на диске\n",
        "for i in os.listdir():\n",
        "  if '.pickle' in i:\n",
        "    if 'data' in i:\n",
        "      print(i.split('.')[0])"
      ],
      "metadata": {
        "colab": {
          "base_uri": "https://localhost:8080/"
        },
        "id": "k7hDqryV7FNT",
        "outputId": "e620c79f-559f-403e-a650-c989668a7afd"
      },
      "execution_count": null,
      "outputs": [
        {
          "output_type": "stream",
          "name": "stdout",
          "text": [
            "data_base\n",
            "data_vehicles\n",
            "data_foot_part\n"
          ]
        }
      ]
    },
    {
      "cell_type": "markdown",
      "source": [
        "# Создадим функции"
      ],
      "metadata": {
        "id": "CoTvhG3GRDzX"
      }
    },
    {
      "cell_type": "code",
      "source": [
        "# Для изменения типа данных в столбце\n",
        "def ch_type(df, col, col_type):\n",
        "  df[col] = df[col].astype(col_type)\n",
        "  a1 = sorted(df[col].unique().tolist())\n",
        "  #display(a1)\n",
        "  return"
      ],
      "metadata": {
        "id": "szzy2C2zAg2o"
      },
      "execution_count": null,
      "outputs": []
    },
    {
      "cell_type": "code",
      "execution_count": null,
      "metadata": {
        "id": "rkmJQE-4LtIo"
      },
      "outputs": [],
      "source": [
        "# построим столбчатую диаграмму, чтобы определить значимые количества тех или иных значений\n",
        "def categ_disp(df, col, title_l):\n",
        "  plt.figure(figsize=(7,5))\n",
        "  df[col].value_counts(ascending = True).plot(kind = 'barh', color = 'g')\n",
        "  plt.title(title_l, color = 'b', fontsize = 20)\n",
        "  plt.xlabel('Количество случаев', color = 'b', fontsize = 16)\n",
        "  plt.ylabel(title_l, color = 'b', fontsize = 16)\n",
        "  plt.xticks(color = 'b', fontsize = 10)\n",
        "  plt.yticks(color = 'b', fontsize = 10)\n",
        "\n",
        "  return"
      ]
    },
    {
      "cell_type": "code",
      "source": [],
      "metadata": {
        "id": "aq6aKn5tRCoi"
      },
      "execution_count": null,
      "outputs": []
    },
    {
      "cell_type": "markdown",
      "source": [
        "# Загрузим и подготовим первый файл - data_base - с основными данными"
      ],
      "metadata": {
        "id": "JS7u6btM9LTC"
      }
    },
    {
      "cell_type": "code",
      "execution_count": null,
      "metadata": {
        "id": "0a24d582",
        "colab": {
          "base_uri": "https://localhost:8080/",
          "height": 556
        },
        "outputId": "2cce18cb-b735-4b23-9706-32d5b8e5cabb"
      },
      "outputs": [
        {
          "output_type": "stream",
          "name": "stdout",
          "text": [
            "data_base.pickle\n"
          ]
        },
        {
          "output_type": "display_data",
          "data": {
            "text/plain": [
              "               coordinates       id                                 tags  \\\n",
              "0  [129.848292, 49.796572]  2525237  [Дорожно-транспортные происшествия]   \n",
              "1   [129.769821, 49.83001]  2060303  [Дорожно-транспортные происшествия]   \n",
              "2   [129.90612, 49.798774]  2624862  [Дорожно-транспортные происшествия]   \n",
              "3  [129.982574, 49.821165]  2624870  [Дорожно-транспортные происшествия]   \n",
              "4   [130.14165, 50.193372]  2536793  [Дорожно-транспортные происшествия]   \n",
              "\n",
              "                                         light        lat        long nearby  \\\n",
              "0  В темное время суток, освещение отсутствует  49.796572  129.848292     []   \n",
              "1  В темное время суток, освещение отсутствует  49.830010  129.769821     []   \n",
              "2                          Светлое время суток  49.798774  129.906120  [АЗС]   \n",
              "3                          Светлое время суток  49.821165  129.982574     []   \n",
              "4  В темное время суток, освещение отсутствует  50.193372  130.141650     []   \n",
              "\n",
              "            region                                            address  \\\n",
              "0  Бурейский район              Прогресс – Бурея – Новобурейск, 24 км   \n",
              "1  Бурейский район                                               None   \n",
              "2  Бурейский район  Р-297 Амур Чита - Невер - Свободный - Архара -...   \n",
              "3  Бурейский район         Гомелевка – Новобурейск – Куликовка, 33 км   \n",
              "4  Бурейский район  пгт Талакан, Подъезд к п. Талакан от автомобил...   \n",
              "\n",
              "      weather              category            datetime     severity  \\\n",
              "0  [Пасмурно]     Наезд на пешехода 2020-12-10 17:40:00       Легкий   \n",
              "1      [Ясно]  Наезд на препятствие 2018-01-22 00:20:00  С погибшими   \n",
              "2      [Ясно]          Столкновение 2021-09-24 09:20:00       Легкий   \n",
              "3      [Ясно]        Съезд с дороги 2021-09-10 15:00:00       Легкий   \n",
              "4      [Ясно]         Опрокидывание 2021-01-16 20:30:00       Легкий   \n",
              "\n",
              "   dead_count  injured_count     parent_region  \\\n",
              "0           0              1  Амурская область   \n",
              "1           1              0  Амурская область   \n",
              "2           0              2  Амурская область   \n",
              "3           0              1  Амурская область   \n",
              "4           0              1  Амурская область   \n",
              "\n",
              "                                 road_conditions  participants_count  \\\n",
              "0                                        [Сухое]                   2   \n",
              "1                           [Со снежным накатом]                   5   \n",
              "2                                        [Сухое]                   3   \n",
              "3                                        [Сухое]                   1   \n",
              "4  [Обработанное противогололедными материалами]                   1   \n",
              "\n",
              "      participant_categories  \n",
              "0  [Пешеходы, Все участники]  \n",
              "1            [Все участники]  \n",
              "2            [Все участники]  \n",
              "3            [Все участники]  \n",
              "4            [Все участники]  "
            ],
            "text/html": [
              "\n",
              "  <div id=\"df-14bfe235-d34a-4b43-bc27-9083db498cfb\" class=\"colab-df-container\">\n",
              "    <div>\n",
              "<style scoped>\n",
              "    .dataframe tbody tr th:only-of-type {\n",
              "        vertical-align: middle;\n",
              "    }\n",
              "\n",
              "    .dataframe tbody tr th {\n",
              "        vertical-align: top;\n",
              "    }\n",
              "\n",
              "    .dataframe thead th {\n",
              "        text-align: right;\n",
              "    }\n",
              "</style>\n",
              "<table border=\"1\" class=\"dataframe\">\n",
              "  <thead>\n",
              "    <tr style=\"text-align: right;\">\n",
              "      <th></th>\n",
              "      <th>coordinates</th>\n",
              "      <th>id</th>\n",
              "      <th>tags</th>\n",
              "      <th>light</th>\n",
              "      <th>lat</th>\n",
              "      <th>long</th>\n",
              "      <th>nearby</th>\n",
              "      <th>region</th>\n",
              "      <th>address</th>\n",
              "      <th>weather</th>\n",
              "      <th>category</th>\n",
              "      <th>datetime</th>\n",
              "      <th>severity</th>\n",
              "      <th>dead_count</th>\n",
              "      <th>injured_count</th>\n",
              "      <th>parent_region</th>\n",
              "      <th>road_conditions</th>\n",
              "      <th>participants_count</th>\n",
              "      <th>participant_categories</th>\n",
              "    </tr>\n",
              "  </thead>\n",
              "  <tbody>\n",
              "    <tr>\n",
              "      <th>0</th>\n",
              "      <td>[129.848292, 49.796572]</td>\n",
              "      <td>2525237</td>\n",
              "      <td>[Дорожно-транспортные происшествия]</td>\n",
              "      <td>В темное время суток, освещение отсутствует</td>\n",
              "      <td>49.796572</td>\n",
              "      <td>129.848292</td>\n",
              "      <td>[]</td>\n",
              "      <td>Бурейский район</td>\n",
              "      <td>Прогресс – Бурея – Новобурейск, 24 км</td>\n",
              "      <td>[Пасмурно]</td>\n",
              "      <td>Наезд на пешехода</td>\n",
              "      <td>2020-12-10 17:40:00</td>\n",
              "      <td>Легкий</td>\n",
              "      <td>0</td>\n",
              "      <td>1</td>\n",
              "      <td>Амурская область</td>\n",
              "      <td>[Сухое]</td>\n",
              "      <td>2</td>\n",
              "      <td>[Пешеходы, Все участники]</td>\n",
              "    </tr>\n",
              "    <tr>\n",
              "      <th>1</th>\n",
              "      <td>[129.769821, 49.83001]</td>\n",
              "      <td>2060303</td>\n",
              "      <td>[Дорожно-транспортные происшествия]</td>\n",
              "      <td>В темное время суток, освещение отсутствует</td>\n",
              "      <td>49.830010</td>\n",
              "      <td>129.769821</td>\n",
              "      <td>[]</td>\n",
              "      <td>Бурейский район</td>\n",
              "      <td>None</td>\n",
              "      <td>[Ясно]</td>\n",
              "      <td>Наезд на препятствие</td>\n",
              "      <td>2018-01-22 00:20:00</td>\n",
              "      <td>С погибшими</td>\n",
              "      <td>1</td>\n",
              "      <td>0</td>\n",
              "      <td>Амурская область</td>\n",
              "      <td>[Со снежным накатом]</td>\n",
              "      <td>5</td>\n",
              "      <td>[Все участники]</td>\n",
              "    </tr>\n",
              "    <tr>\n",
              "      <th>2</th>\n",
              "      <td>[129.90612, 49.798774]</td>\n",
              "      <td>2624862</td>\n",
              "      <td>[Дорожно-транспортные происшествия]</td>\n",
              "      <td>Светлое время суток</td>\n",
              "      <td>49.798774</td>\n",
              "      <td>129.906120</td>\n",
              "      <td>[АЗС]</td>\n",
              "      <td>Бурейский район</td>\n",
              "      <td>Р-297 Амур Чита - Невер - Свободный - Архара -...</td>\n",
              "      <td>[Ясно]</td>\n",
              "      <td>Столкновение</td>\n",
              "      <td>2021-09-24 09:20:00</td>\n",
              "      <td>Легкий</td>\n",
              "      <td>0</td>\n",
              "      <td>2</td>\n",
              "      <td>Амурская область</td>\n",
              "      <td>[Сухое]</td>\n",
              "      <td>3</td>\n",
              "      <td>[Все участники]</td>\n",
              "    </tr>\n",
              "    <tr>\n",
              "      <th>3</th>\n",
              "      <td>[129.982574, 49.821165]</td>\n",
              "      <td>2624870</td>\n",
              "      <td>[Дорожно-транспортные происшествия]</td>\n",
              "      <td>Светлое время суток</td>\n",
              "      <td>49.821165</td>\n",
              "      <td>129.982574</td>\n",
              "      <td>[]</td>\n",
              "      <td>Бурейский район</td>\n",
              "      <td>Гомелевка – Новобурейск – Куликовка, 33 км</td>\n",
              "      <td>[Ясно]</td>\n",
              "      <td>Съезд с дороги</td>\n",
              "      <td>2021-09-10 15:00:00</td>\n",
              "      <td>Легкий</td>\n",
              "      <td>0</td>\n",
              "      <td>1</td>\n",
              "      <td>Амурская область</td>\n",
              "      <td>[Сухое]</td>\n",
              "      <td>1</td>\n",
              "      <td>[Все участники]</td>\n",
              "    </tr>\n",
              "    <tr>\n",
              "      <th>4</th>\n",
              "      <td>[130.14165, 50.193372]</td>\n",
              "      <td>2536793</td>\n",
              "      <td>[Дорожно-транспортные происшествия]</td>\n",
              "      <td>В темное время суток, освещение отсутствует</td>\n",
              "      <td>50.193372</td>\n",
              "      <td>130.141650</td>\n",
              "      <td>[]</td>\n",
              "      <td>Бурейский район</td>\n",
              "      <td>пгт Талакан, Подъезд к п. Талакан от автомобил...</td>\n",
              "      <td>[Ясно]</td>\n",
              "      <td>Опрокидывание</td>\n",
              "      <td>2021-01-16 20:30:00</td>\n",
              "      <td>Легкий</td>\n",
              "      <td>0</td>\n",
              "      <td>1</td>\n",
              "      <td>Амурская область</td>\n",
              "      <td>[Обработанное противогололедными материалами]</td>\n",
              "      <td>1</td>\n",
              "      <td>[Все участники]</td>\n",
              "    </tr>\n",
              "  </tbody>\n",
              "</table>\n",
              "</div>\n",
              "    <div class=\"colab-df-buttons\">\n",
              "\n",
              "  <div class=\"colab-df-container\">\n",
              "    <button class=\"colab-df-convert\" onclick=\"convertToInteractive('df-14bfe235-d34a-4b43-bc27-9083db498cfb')\"\n",
              "            title=\"Convert this dataframe to an interactive table.\"\n",
              "            style=\"display:none;\">\n",
              "\n",
              "  <svg xmlns=\"http://www.w3.org/2000/svg\" height=\"24px\" viewBox=\"0 -960 960 960\">\n",
              "    <path d=\"M120-120v-720h720v720H120Zm60-500h600v-160H180v160Zm220 220h160v-160H400v160Zm0 220h160v-160H400v160ZM180-400h160v-160H180v160Zm440 0h160v-160H620v160ZM180-180h160v-160H180v160Zm440 0h160v-160H620v160Z\"/>\n",
              "  </svg>\n",
              "    </button>\n",
              "\n",
              "  <style>\n",
              "    .colab-df-container {\n",
              "      display:flex;\n",
              "      gap: 12px;\n",
              "    }\n",
              "\n",
              "    .colab-df-convert {\n",
              "      background-color: #E8F0FE;\n",
              "      border: none;\n",
              "      border-radius: 50%;\n",
              "      cursor: pointer;\n",
              "      display: none;\n",
              "      fill: #1967D2;\n",
              "      height: 32px;\n",
              "      padding: 0 0 0 0;\n",
              "      width: 32px;\n",
              "    }\n",
              "\n",
              "    .colab-df-convert:hover {\n",
              "      background-color: #E2EBFA;\n",
              "      box-shadow: 0px 1px 2px rgba(60, 64, 67, 0.3), 0px 1px 3px 1px rgba(60, 64, 67, 0.15);\n",
              "      fill: #174EA6;\n",
              "    }\n",
              "\n",
              "    .colab-df-buttons div {\n",
              "      margin-bottom: 4px;\n",
              "    }\n",
              "\n",
              "    [theme=dark] .colab-df-convert {\n",
              "      background-color: #3B4455;\n",
              "      fill: #D2E3FC;\n",
              "    }\n",
              "\n",
              "    [theme=dark] .colab-df-convert:hover {\n",
              "      background-color: #434B5C;\n",
              "      box-shadow: 0px 1px 3px 1px rgba(0, 0, 0, 0.15);\n",
              "      filter: drop-shadow(0px 1px 2px rgba(0, 0, 0, 0.3));\n",
              "      fill: #FFFFFF;\n",
              "    }\n",
              "  </style>\n",
              "\n",
              "    <script>\n",
              "      const buttonEl =\n",
              "        document.querySelector('#df-14bfe235-d34a-4b43-bc27-9083db498cfb button.colab-df-convert');\n",
              "      buttonEl.style.display =\n",
              "        google.colab.kernel.accessAllowed ? 'block' : 'none';\n",
              "\n",
              "      async function convertToInteractive(key) {\n",
              "        const element = document.querySelector('#df-14bfe235-d34a-4b43-bc27-9083db498cfb');\n",
              "        const dataTable =\n",
              "          await google.colab.kernel.invokeFunction('convertToInteractive',\n",
              "                                                    [key], {});\n",
              "        if (!dataTable) return;\n",
              "\n",
              "        const docLinkHtml = 'Like what you see? Visit the ' +\n",
              "          '<a target=\"_blank\" href=https://colab.research.google.com/notebooks/data_table.ipynb>data table notebook</a>'\n",
              "          + ' to learn more about interactive tables.';\n",
              "        element.innerHTML = '';\n",
              "        dataTable['output_type'] = 'display_data';\n",
              "        await google.colab.output.renderOutput(dataTable, element);\n",
              "        const docLink = document.createElement('div');\n",
              "        docLink.innerHTML = docLinkHtml;\n",
              "        element.appendChild(docLink);\n",
              "      }\n",
              "    </script>\n",
              "  </div>\n",
              "\n",
              "\n",
              "<div id=\"df-bad4b61d-5e02-4cd7-9607-5b9aee237977\">\n",
              "  <button class=\"colab-df-quickchart\" onclick=\"quickchart('df-bad4b61d-5e02-4cd7-9607-5b9aee237977')\"\n",
              "            title=\"Suggest charts\"\n",
              "            style=\"display:none;\">\n",
              "\n",
              "<svg xmlns=\"http://www.w3.org/2000/svg\" height=\"24px\"viewBox=\"0 0 24 24\"\n",
              "     width=\"24px\">\n",
              "    <g>\n",
              "        <path d=\"M19 3H5c-1.1 0-2 .9-2 2v14c0 1.1.9 2 2 2h14c1.1 0 2-.9 2-2V5c0-1.1-.9-2-2-2zM9 17H7v-7h2v7zm4 0h-2V7h2v10zm4 0h-2v-4h2v4z\"/>\n",
              "    </g>\n",
              "</svg>\n",
              "  </button>\n",
              "\n",
              "<style>\n",
              "  .colab-df-quickchart {\n",
              "      --bg-color: #E8F0FE;\n",
              "      --fill-color: #1967D2;\n",
              "      --hover-bg-color: #E2EBFA;\n",
              "      --hover-fill-color: #174EA6;\n",
              "      --disabled-fill-color: #AAA;\n",
              "      --disabled-bg-color: #DDD;\n",
              "  }\n",
              "\n",
              "  [theme=dark] .colab-df-quickchart {\n",
              "      --bg-color: #3B4455;\n",
              "      --fill-color: #D2E3FC;\n",
              "      --hover-bg-color: #434B5C;\n",
              "      --hover-fill-color: #FFFFFF;\n",
              "      --disabled-bg-color: #3B4455;\n",
              "      --disabled-fill-color: #666;\n",
              "  }\n",
              "\n",
              "  .colab-df-quickchart {\n",
              "    background-color: var(--bg-color);\n",
              "    border: none;\n",
              "    border-radius: 50%;\n",
              "    cursor: pointer;\n",
              "    display: none;\n",
              "    fill: var(--fill-color);\n",
              "    height: 32px;\n",
              "    padding: 0;\n",
              "    width: 32px;\n",
              "  }\n",
              "\n",
              "  .colab-df-quickchart:hover {\n",
              "    background-color: var(--hover-bg-color);\n",
              "    box-shadow: 0 1px 2px rgba(60, 64, 67, 0.3), 0 1px 3px 1px rgba(60, 64, 67, 0.15);\n",
              "    fill: var(--button-hover-fill-color);\n",
              "  }\n",
              "\n",
              "  .colab-df-quickchart-complete:disabled,\n",
              "  .colab-df-quickchart-complete:disabled:hover {\n",
              "    background-color: var(--disabled-bg-color);\n",
              "    fill: var(--disabled-fill-color);\n",
              "    box-shadow: none;\n",
              "  }\n",
              "\n",
              "  .colab-df-spinner {\n",
              "    border: 2px solid var(--fill-color);\n",
              "    border-color: transparent;\n",
              "    border-bottom-color: var(--fill-color);\n",
              "    animation:\n",
              "      spin 1s steps(1) infinite;\n",
              "  }\n",
              "\n",
              "  @keyframes spin {\n",
              "    0% {\n",
              "      border-color: transparent;\n",
              "      border-bottom-color: var(--fill-color);\n",
              "      border-left-color: var(--fill-color);\n",
              "    }\n",
              "    20% {\n",
              "      border-color: transparent;\n",
              "      border-left-color: var(--fill-color);\n",
              "      border-top-color: var(--fill-color);\n",
              "    }\n",
              "    30% {\n",
              "      border-color: transparent;\n",
              "      border-left-color: var(--fill-color);\n",
              "      border-top-color: var(--fill-color);\n",
              "      border-right-color: var(--fill-color);\n",
              "    }\n",
              "    40% {\n",
              "      border-color: transparent;\n",
              "      border-right-color: var(--fill-color);\n",
              "      border-top-color: var(--fill-color);\n",
              "    }\n",
              "    60% {\n",
              "      border-color: transparent;\n",
              "      border-right-color: var(--fill-color);\n",
              "    }\n",
              "    80% {\n",
              "      border-color: transparent;\n",
              "      border-right-color: var(--fill-color);\n",
              "      border-bottom-color: var(--fill-color);\n",
              "    }\n",
              "    90% {\n",
              "      border-color: transparent;\n",
              "      border-bottom-color: var(--fill-color);\n",
              "    }\n",
              "  }\n",
              "</style>\n",
              "\n",
              "  <script>\n",
              "    async function quickchart(key) {\n",
              "      const quickchartButtonEl =\n",
              "        document.querySelector('#' + key + ' button');\n",
              "      quickchartButtonEl.disabled = true;  // To prevent multiple clicks.\n",
              "      quickchartButtonEl.classList.add('colab-df-spinner');\n",
              "      try {\n",
              "        const charts = await google.colab.kernel.invokeFunction(\n",
              "            'suggestCharts', [key], {});\n",
              "      } catch (error) {\n",
              "        console.error('Error during call to suggestCharts:', error);\n",
              "      }\n",
              "      quickchartButtonEl.classList.remove('colab-df-spinner');\n",
              "      quickchartButtonEl.classList.add('colab-df-quickchart-complete');\n",
              "    }\n",
              "    (() => {\n",
              "      let quickchartButtonEl =\n",
              "        document.querySelector('#df-bad4b61d-5e02-4cd7-9607-5b9aee237977 button');\n",
              "      quickchartButtonEl.style.display =\n",
              "        google.colab.kernel.accessAllowed ? 'block' : 'none';\n",
              "    })();\n",
              "  </script>\n",
              "</div>\n",
              "    </div>\n",
              "  </div>\n"
            ],
            "application/vnd.google.colaboratory.intrinsic+json": {
              "type": "dataframe",
              "summary": "{\n  \"name\": \"      display(data_base\",\n  \"rows\": 5,\n  \"fields\": [\n    {\n      \"column\": \"coordinates\",\n      \"properties\": {\n        \"dtype\": \"object\",\n        \"semantic_type\": \"\",\n        \"description\": \"\"\n      }\n    },\n    {\n      \"column\": \"id\",\n      \"properties\": {\n        \"dtype\": \"int32\",\n        \"num_unique_values\": 5,\n        \"samples\": [\n          2060303,\n          2536793,\n          2624862\n        ],\n        \"semantic_type\": \"\",\n        \"description\": \"\"\n      }\n    },\n    {\n      \"column\": \"tags\",\n      \"properties\": {\n        \"dtype\": \"object\",\n        \"semantic_type\": \"\",\n        \"description\": \"\"\n      }\n    },\n    {\n      \"column\": \"light\",\n      \"properties\": {\n        \"dtype\": \"category\",\n        \"num_unique_values\": 2,\n        \"samples\": [\n          \"\\u0421\\u0432\\u0435\\u0442\\u043b\\u043e\\u0435 \\u0432\\u0440\\u0435\\u043c\\u044f \\u0441\\u0443\\u0442\\u043e\\u043a\",\n          \"\\u0412 \\u0442\\u0435\\u043c\\u043d\\u043e\\u0435 \\u0432\\u0440\\u0435\\u043c\\u044f \\u0441\\u0443\\u0442\\u043e\\u043a, \\u043e\\u0441\\u0432\\u0435\\u0449\\u0435\\u043d\\u0438\\u0435 \\u043e\\u0442\\u0441\\u0443\\u0442\\u0441\\u0442\\u0432\\u0443\\u0435\\u0442\"\n        ],\n        \"semantic_type\": \"\",\n        \"description\": \"\"\n      }\n    },\n    {\n      \"column\": \"lat\",\n      \"properties\": {\n        \"dtype\": \"number\",\n        \"std\": 0.1713200015170425,\n        \"min\": 49.796572,\n        \"max\": 50.193372,\n        \"num_unique_values\": 5,\n        \"samples\": [\n          49.83001,\n          50.193372\n        ],\n        \"semantic_type\": \"\",\n        \"description\": \"\"\n      }\n    },\n    {\n      \"column\": \"long\",\n      \"properties\": {\n        \"dtype\": \"number\",\n        \"std\": 0.14183003517520518,\n        \"min\": 129.769821,\n        \"max\": 130.14165,\n        \"num_unique_values\": 5,\n        \"samples\": [\n          129.769821,\n          130.14165\n        ],\n        \"semantic_type\": \"\",\n        \"description\": \"\"\n      }\n    },\n    {\n      \"column\": \"nearby\",\n      \"properties\": {\n        \"dtype\": \"object\",\n        \"semantic_type\": \"\",\n        \"description\": \"\"\n      }\n    },\n    {\n      \"column\": \"region\",\n      \"properties\": {\n        \"dtype\": \"category\",\n        \"num_unique_values\": 1,\n        \"samples\": [\n          \"\\u0411\\u0443\\u0440\\u0435\\u0439\\u0441\\u043a\\u0438\\u0439 \\u0440\\u0430\\u0439\\u043e\\u043d\"\n        ],\n        \"semantic_type\": \"\",\n        \"description\": \"\"\n      }\n    },\n    {\n      \"column\": \"address\",\n      \"properties\": {\n        \"dtype\": \"string\",\n        \"num_unique_values\": 4,\n        \"samples\": [\n          \"\\u0420-297 \\u0410\\u043c\\u0443\\u0440 \\u0427\\u0438\\u0442\\u0430 - \\u041d\\u0435\\u0432\\u0435\\u0440 - \\u0421\\u0432\\u043e\\u0431\\u043e\\u0434\\u043d\\u044b\\u0439 - \\u0410\\u0440\\u0445\\u0430\\u0440\\u0430 - \\u0411\\u0438\\u0440\\u043e\\u0431\\u0438\\u0434\\u0436\\u0430\\u043d \\u2013 \\u0425\\u0430\\u0431\\u0430\\u0440\\u043e\\u0432\\u0441\\u043a (\\u043e\\u0441\\u043d\\u043e\\u0432\\u043d\\u043e\\u0435 \\u043d\\u0430\\u043f\\u0440\\u0430\\u0432\\u043b\\u0435\\u043d\\u0438\\u0435), 1625 \\u043a\\u043c\"\n        ],\n        \"semantic_type\": \"\",\n        \"description\": \"\"\n      }\n    },\n    {\n      \"column\": \"weather\",\n      \"properties\": {\n        \"dtype\": \"object\",\n        \"semantic_type\": \"\",\n        \"description\": \"\"\n      }\n    },\n    {\n      \"column\": \"category\",\n      \"properties\": {\n        \"dtype\": \"category\",\n        \"num_unique_values\": 5,\n        \"samples\": [\n          \"\\u041d\\u0430\\u0435\\u0437\\u0434 \\u043d\\u0430 \\u043f\\u0440\\u0435\\u043f\\u044f\\u0442\\u0441\\u0442\\u0432\\u0438\\u0435\"\n        ],\n        \"semantic_type\": \"\",\n        \"description\": \"\"\n      }\n    },\n    {\n      \"column\": \"datetime\",\n      \"properties\": {\n        \"dtype\": \"date\",\n        \"min\": \"2018-01-22 00:20:00\",\n        \"max\": \"2021-09-24 09:20:00\",\n        \"num_unique_values\": 5,\n        \"samples\": [\n          \"2018-01-22 00:20:00\"\n        ],\n        \"semantic_type\": \"\",\n        \"description\": \"\"\n      }\n    },\n    {\n      \"column\": \"severity\",\n      \"properties\": {\n        \"dtype\": \"category\",\n        \"num_unique_values\": 2,\n        \"samples\": [\n          \"\\u0421 \\u043f\\u043e\\u0433\\u0438\\u0431\\u0448\\u0438\\u043c\\u0438\"\n        ],\n        \"semantic_type\": \"\",\n        \"description\": \"\"\n      }\n    },\n    {\n      \"column\": \"dead_count\",\n      \"properties\": {\n        \"dtype\": \"int8\",\n        \"num_unique_values\": 2,\n        \"samples\": [\n          1\n        ],\n        \"semantic_type\": \"\",\n        \"description\": \"\"\n      }\n    },\n    {\n      \"column\": \"injured_count\",\n      \"properties\": {\n        \"dtype\": \"int8\",\n        \"num_unique_values\": 3,\n        \"samples\": [\n          1\n        ],\n        \"semantic_type\": \"\",\n        \"description\": \"\"\n      }\n    },\n    {\n      \"column\": \"parent_region\",\n      \"properties\": {\n        \"dtype\": \"category\",\n        \"num_unique_values\": 1,\n        \"samples\": [\n          \"\\u0410\\u043c\\u0443\\u0440\\u0441\\u043a\\u0430\\u044f \\u043e\\u0431\\u043b\\u0430\\u0441\\u0442\\u044c\"\n        ],\n        \"semantic_type\": \"\",\n        \"description\": \"\"\n      }\n    },\n    {\n      \"column\": \"road_conditions\",\n      \"properties\": {\n        \"dtype\": \"object\",\n        \"semantic_type\": \"\",\n        \"description\": \"\"\n      }\n    },\n    {\n      \"column\": \"participants_count\",\n      \"properties\": {\n        \"dtype\": \"int8\",\n        \"num_unique_values\": 4,\n        \"samples\": [\n          5\n        ],\n        \"semantic_type\": \"\",\n        \"description\": \"\"\n      }\n    },\n    {\n      \"column\": \"participant_categories\",\n      \"properties\": {\n        \"dtype\": \"object\",\n        \"semantic_type\": \"\",\n        \"description\": \"\"\n      }\n    }\n  ]\n}"
            }
          },
          "metadata": {}
        }
      ],
      "source": [
        "# Загрузим первый файл\n",
        "for i in os.listdir():\n",
        "    if 'data_base.' in i:\n",
        "      print(i)\n",
        "      with open(i, 'rb') as file:\n",
        "          data_base = pickle.load(file)\n",
        "      display(data_base.head())"
      ]
    },
    {
      "cell_type": "code",
      "source": [
        "# Удалим невостребованные столбцы\n",
        "data_base = data_base.drop(columns=(['coordinates', 'lat', 'long', 'region', 'address', 'nearby', 'tags', 'weather', 'road_conditions', 'participant_categories']))"
      ],
      "metadata": {
        "id": "SHCjiAxxseFL"
      },
      "execution_count": null,
      "outputs": []
    },
    {
      "cell_type": "code",
      "source": [
        "# Для каждого столбца выведем на экран уникальные значения и их количество\n",
        "for i in data_base.columns:\n",
        "  print(f'\\033[1m\\033[95mСтолбец {i} \\033[0m\\n Количество значений {data_base[i].nunique()}  \\n {data_base[i].unique()}')"
      ],
      "metadata": {
        "colab": {
          "base_uri": "https://localhost:8080/"
        },
        "id": "X7fJlEfRt0xO",
        "outputId": "cd9eb2ab-5dd4-4278-9d49-72a5f0401a71"
      },
      "execution_count": null,
      "outputs": [
        {
          "output_type": "stream",
          "name": "stdout",
          "text": [
            "\u001b[1m\u001b[95mСтолбец id \u001b[0m\n",
            " Количество значений 1411646  \n",
            " [2525237 2060303 2624862 ... 1867222 1874000 1867695]\n",
            "\u001b[1m\u001b[95mСтолбец light \u001b[0m\n",
            " Количество значений 6  \n",
            " ['В темное время суток, освещение отсутствует', 'Светлое время суток', 'В темное время суток, освещение включено', 'Сумерки', 'В темное время суток, освещение не включено', 'Не установлено']\n",
            "Categories (6, object): ['В темное время суток, освещение включено', 'В темное время суток, освещение не включено',\n",
            "                         'В темное время суток, освещение отсутствует', 'Не установлено', 'Светлое время суток', 'Сумерки']\n",
            "\u001b[1m\u001b[95mСтолбец category \u001b[0m\n",
            " Количество значений 18  \n",
            " ['Наезд на пешехода', 'Наезд на препятствие', 'Столкновение', 'Съезд с дороги', 'Опрокидывание', ..., 'Наезд на животное', 'Наезд на лицо, не являющееся участником дорож..., 'Наезд на внезапно возникшее препятствие', 'Наезд на гужевой транспорт', 'Возгорание вследствие технической неисправнос...]\n",
            "Length: 18\n",
            "Categories (18, object): ['Возгорание вследствие технической неисправнос..., 'Иной вид ДТП', 'Наезд на велосипедиста',\n",
            "                          'Наезд на внезапно возникшее препятствие', ..., 'Падение груза', 'Падение пассажира', 'Столкновение',\n",
            "                          'Съезд с дороги']\n",
            "\u001b[1m\u001b[95mСтолбец datetime \u001b[0m\n",
            " Количество значений 726057  \n",
            " <DatetimeArray>\n",
            "['2020-12-10 17:40:00', '2018-01-22 00:20:00', '2021-09-24 09:20:00',\n",
            " '2021-09-10 15:00:00', '2021-01-16 20:30:00', '2019-10-05 14:20:00',\n",
            " '2021-03-10 19:20:00', '2022-11-16 22:50:00', '2022-11-10 13:50:00',\n",
            " '2022-11-07 16:40:00',\n",
            " ...\n",
            " '2019-05-23 00:30:00', '2015-09-28 11:20:00', '2015-07-23 22:35:00',\n",
            " '2020-03-28 17:55:00', '2019-05-12 07:55:00', '2019-04-20 20:45:00',\n",
            " '2018-12-03 20:12:00', '2015-07-17 02:40:00', '2015-01-04 17:15:00',\n",
            " '2018-06-27 16:05:00']\n",
            "Length: 726057, dtype: datetime64[ns]\n",
            "\u001b[1m\u001b[95mСтолбец severity \u001b[0m\n",
            " Количество значений 3  \n",
            " ['Легкий', 'С погибшими', 'Тяжёлый']\n",
            "Categories (3, object): ['Легкий', 'С погибшими', 'Тяжёлый']\n",
            "\u001b[1m\u001b[95mСтолбец dead_count \u001b[0m\n",
            " Количество значений 20  \n",
            " [ 0  1  2  3  4  5  6  8 17  7  9 11 19 14 20 16 15 12 13 10]\n",
            "\u001b[1m\u001b[95mСтолбец injured_count \u001b[0m\n",
            " Количество значений 46  \n",
            " [ 1  0  2  3  5  4 11  6  7  8 10  9 12 18 17 13 15 23 14 34 37 21 16 26\n",
            " 19 20 28 38 25 39 43 42 30 29 31 22 44 47 24 33 35 57 27 41 40 32]\n",
            "\u001b[1m\u001b[95mСтолбец parent_region \u001b[0m\n",
            " Количество значений 85  \n",
            " ['Амурская область', 'Архангельская область', 'Алтайский край', 'Астраханская область', 'Брянская область', ..., 'Чеченская Республика', 'Чувашская Республика - Чувашия', 'Чукотский автономный округ', 'Ямало-Ненецкий автономный округ', 'Ярославская область']\n",
            "Length: 85\n",
            "Categories (85, object): ['Алтайский край', 'Амурская область', 'Архангельская область',\n",
            "                          'Астраханская область', ..., 'Чувашская Республика - Чувашия',\n",
            "                          'Чукотский автономный округ', 'Ямало-Ненецкий автономный округ',\n",
            "                          'Ярославская область']\n",
            "\u001b[1m\u001b[95mСтолбец participants_count \u001b[0m\n",
            " Количество значений 55  \n",
            " [ 2  5  3  1  4  7 13  6  8  9 14 12 10 15 11 20 25 16 22 18 24 17 36 23\n",
            " 38 21 54 19 26 42 51 27 29 41 30 28 47 45 44 48 52 43 40 39 55 33 34 53\n",
            " 35 37 59 32 31 50 58]\n"
          ]
        }
      ]
    },
    {
      "cell_type": "markdown",
      "source": [
        "\n",
        "- В столбце light присутствует 6 уникальных значений. Систематизируем их и при неоьходимости  снизим их количество.\n",
        "- В столбце category присутствует 18 уникальных значений. Систематизируем их и снизим их количество.   \n",
        "- В столбце severity - категории \"Легкий\" и \"Тяжелый\" не несут для нас никакой информации, информацию о тяжести мя полуим из столбцов injured_count и dead_count. Систематизируем их и снизим их количество.   \n",
        "\n",
        "---\n",
        "\n"
      ],
      "metadata": {
        "id": "nqr1pidE20il"
      }
    },
    {
      "cell_type": "markdown",
      "source": [
        "- В столбце category присутствует 18 уникальных значений. Систематизируем их и снизим их количество.   \n",
        "Выведем на экран в алфавитном порядке.   \n",
        "После чего построим столбчатую диаграмму, чтобы определить значимые количества тех или иных значений в категориях"
      ],
      "metadata": {
        "id": "EO1hi-lXIO67"
      }
    },
    {
      "cell_type": "code",
      "source": [
        "sorted(data_base.category.unique().tolist())"
      ],
      "metadata": {
        "colab": {
          "base_uri": "https://localhost:8080/"
        },
        "id": "F4jF0sLCu0gQ",
        "outputId": "d0e6856c-2789-433c-de2d-ba420387c560"
      },
      "execution_count": null,
      "outputs": [
        {
          "output_type": "execute_result",
          "data": {
            "text/plain": [
              "['Возгорание вследствие технической неисправности движущегося или остановившегося ТС, участвующего в дорожном движении.',\n",
              " 'Иной вид ДТП',\n",
              " 'Наезд на велосипедиста',\n",
              " 'Наезд на внезапно возникшее препятствие',\n",
              " 'Наезд на гужевой транспорт',\n",
              " 'Наезд на животное',\n",
              " 'Наезд на лицо, не являющееся участником дорожного движения, осуществляющее какую-либо другую деятельность',\n",
              " 'Наезд на лицо, не являющееся участником дорожного движения, осуществляющее несение службы',\n",
              " 'Наезд на лицо, не являющееся участником дорожного движения, осуществляющее производство работ',\n",
              " 'Наезд на пешехода',\n",
              " 'Наезд на препятствие',\n",
              " 'Наезд на стоящее ТС',\n",
              " 'Опрокидывание',\n",
              " 'Отбрасывание предмета',\n",
              " 'Падение груза',\n",
              " 'Падение пассажира',\n",
              " 'Столкновение',\n",
              " 'Съезд с дороги']"
            ]
          },
          "metadata": {},
          "execution_count": 10
        }
      ]
    },
    {
      "cell_type": "code",
      "source": [
        "categ_disp(data_base, 'category', 'Вид ДТП')"
      ],
      "metadata": {
        "colab": {
          "base_uri": "https://localhost:8080/",
          "height": 463
        },
        "id": "-0PWHTWQSo9G",
        "outputId": "b83d46b6-4aa2-4f26-cceb-091f7ba0f5d8"
      },
      "execution_count": null,
      "outputs": [
        {
          "output_type": "display_data",
          "data": {
            "text/plain": [
              "<Figure size 700x500 with 1 Axes>"
            ],
            "image/png": "[encoded data removed]"
          },
          "metadata": {}
        }
      ]
    },
    {
      "cell_type": "markdown",
      "metadata": {
        "id": "FRQF3jJuHuNq"
      },
      "source": [
        "Произведем категоризацию категорий происшествий.\n",
        "Распределим на:\n",
        "- Столкновения - сюда отнесем только столкновения\n",
        "- Наезды - сюда отнесем все наезды\n",
        "- Опрокидывание - только опрокидывания\n",
        "- Съезд с дороги - только съезды с дороги\n",
        "- Падение пассажира - только падение пассажира\n",
        "- Падение груза - сюда отнесем падение груза и отбрасывание\n",
        "- Иной вид ДТП - отнесем инлй вид ДТП и Возгорание\n"
      ]
    },
    {
      "cell_type": "code",
      "source": [
        "# создадим переменную a1 - она не займет много места, но с ней будет удобнее написать код\n",
        "a1 = sorted(data_base.category.unique().tolist())\n",
        "a1"
      ],
      "metadata": {
        "colab": {
          "base_uri": "https://localhost:8080/"
        },
        "id": "ux7mSpuSv_ub",
        "outputId": "479f3117-6ed9-4ff2-c0cd-f03badab6afa"
      },
      "execution_count": null,
      "outputs": [
        {
          "output_type": "execute_result",
          "data": {
            "text/plain": [
              "['Возгорание вследствие технической неисправности движущегося или остановившегося ТС, участвующего в дорожном движении.',\n",
              " 'Иной вид ДТП',\n",
              " 'Наезд на велосипедиста',\n",
              " 'Наезд на внезапно возникшее препятствие',\n",
              " 'Наезд на гужевой транспорт',\n",
              " 'Наезд на животное',\n",
              " 'Наезд на лицо, не являющееся участником дорожного движения, осуществляющее какую-либо другую деятельность',\n",
              " 'Наезд на лицо, не являющееся участником дорожного движения, осуществляющее несение службы',\n",
              " 'Наезд на лицо, не являющееся участником дорожного движения, осуществляющее производство работ',\n",
              " 'Наезд на пешехода',\n",
              " 'Наезд на препятствие',\n",
              " 'Наезд на стоящее ТС',\n",
              " 'Опрокидывание',\n",
              " 'Отбрасывание предмета',\n",
              " 'Падение груза',\n",
              " 'Падение пассажира',\n",
              " 'Столкновение',\n",
              " 'Съезд с дороги']"
            ]
          },
          "metadata": {},
          "execution_count": 12
        }
      ]
    },
    {
      "cell_type": "code",
      "source": [
        "# Для корректности дальнейшей визуализации вернем ненадолго значениям в столбце light тип данных object\n",
        "data_base['category'] = data_base['category'].astype('object')"
      ],
      "metadata": {
        "id": "LFZtuMD0Lz8B"
      },
      "execution_count": null,
      "outputs": []
    },
    {
      "cell_type": "code",
      "source": [
        "# Произведем замены для происшествий, связанных с падением\n",
        "for i in range(len(a1)):\n",
        "  if i in range(2,12):\n",
        "    data_base.loc[data_base.category == a1[i], 'category'] = 'Наезд'\n",
        "  elif i == 0:\n",
        "    data_base.loc[data_base.category == a1[i], 'category'] = 'Иной вид ДТП'\n",
        "  elif i == 13:\n",
        "    data_base.loc[data_base.category == a1[i], 'category'] = 'Падение груза'\n",
        "  else:\n",
        "    data_base.loc[data_base.category == a1[i], 'category'] = data_base.category"
      ],
      "metadata": {
        "id": "9-a3dBSSxdh6"
      },
      "execution_count": null,
      "outputs": []
    },
    {
      "cell_type": "code",
      "source": [
        "categ_disp(data_base, 'category', 'Вид ДТП')"
      ],
      "metadata": {
        "colab": {
          "base_uri": "https://localhost:8080/",
          "height": 501
        },
        "id": "bkh7myWRS2ur",
        "outputId": "8ff0182f-16c9-4605-e1af-38463c9457d1"
      },
      "execution_count": null,
      "outputs": [
        {
          "output_type": "display_data",
          "data": {
            "text/plain": [
              "<Figure size 700x500 with 1 Axes>"
            ],
            "image/png": "[encoded data removed]"
          },
          "metadata": {}
        }
      ]
    },
    {
      "cell_type": "code",
      "source": [
        "data_base.head()"
      ],
      "metadata": {
        "colab": {
          "base_uri": "https://localhost:8080/",
          "height": 206
        },
        "id": "okkFLxQg4Uak",
        "outputId": "e08982d7-1bec-47dd-9bd3-fc870aa7b837"
      },
      "execution_count": null,
      "outputs": [
        {
          "output_type": "execute_result",
          "data": {
            "text/plain": [
              "        id                                        light        category  \\\n",
              "0  2525237  В темное время суток, освещение отсутствует           Наезд   \n",
              "1  2060303  В темное время суток, освещение отсутствует           Наезд   \n",
              "2  2624862                          Светлое время суток    Столкновение   \n",
              "3  2624870                          Светлое время суток  Съезд с дороги   \n",
              "4  2536793  В темное время суток, освещение отсутствует   Опрокидывание   \n",
              "\n",
              "             datetime     severity  dead_count  injured_count  \\\n",
              "0 2020-12-10 17:40:00       Легкий           0              1   \n",
              "1 2018-01-22 00:20:00  С погибшими           1              0   \n",
              "2 2021-09-24 09:20:00       Легкий           0              2   \n",
              "3 2021-09-10 15:00:00       Легкий           0              1   \n",
              "4 2021-01-16 20:30:00       Легкий           0              1   \n",
              "\n",
              "      parent_region  participants_count  \n",
              "0  Амурская область                   2  \n",
              "1  Амурская область                   5  \n",
              "2  Амурская область                   3  \n",
              "3  Амурская область                   1  \n",
              "4  Амурская область                   1  "
            ],
            "text/html": [
              "\n",
              "  <div id=\"df-2fffbac0-92c8-4822-ba99-113bfc37dcc6\" class=\"colab-df-container\">\n",
              "    <div>\n",
              "<style scoped>\n",
              "    .dataframe tbody tr th:only-of-type {\n",
              "        vertical-align: middle;\n",
              "    }\n",
              "\n",
              "    .dataframe tbody tr th {\n",
              "        vertical-align: top;\n",
              "    }\n",
              "\n",
              "    .dataframe thead th {\n",
              "        text-align: right;\n",
              "    }\n",
              "</style>\n",
              "<table border=\"1\" class=\"dataframe\">\n",
              "  <thead>\n",
              "    <tr style=\"text-align: right;\">\n",
              "      <th></th>\n",
              "      <th>id</th>\n",
              "      <th>light</th>\n",
              "      <th>category</th>\n",
              "      <th>datetime</th>\n",
              "      <th>severity</th>\n",
              "      <th>dead_count</th>\n",
              "      <th>injured_count</th>\n",
              "      <th>parent_region</th>\n",
              "      <th>participants_count</th>\n",
              "    </tr>\n",
              "  </thead>\n",
              "  <tbody>\n",
              "    <tr>\n",
              "      <th>0</th>\n",
              "      <td>2525237</td>\n",
              "      <td>В темное время суток, освещение отсутствует</td>\n",
              "      <td>Наезд</td>\n",
              "      <td>2020-12-10 17:40:00</td>\n",
              "      <td>Легкий</td>\n",
              "      <td>0</td>\n",
              "      <td>1</td>\n",
              "      <td>Амурская область</td>\n",
              "      <td>2</td>\n",
              "    </tr>\n",
              "    <tr>\n",
              "      <th>1</th>\n",
              "      <td>2060303</td>\n",
              "      <td>В темное время суток, освещение отсутствует</td>\n",
              "      <td>Наезд</td>\n",
              "      <td>2018-01-22 00:20:00</td>\n",
              "      <td>С погибшими</td>\n",
              "      <td>1</td>\n",
              "      <td>0</td>\n",
              "      <td>Амурская область</td>\n",
              "      <td>5</td>\n",
              "    </tr>\n",
              "    <tr>\n",
              "      <th>2</th>\n",
              "      <td>2624862</td>\n",
              "      <td>Светлое время суток</td>\n",
              "      <td>Столкновение</td>\n",
              "      <td>2021-09-24 09:20:00</td>\n",
              "      <td>Легкий</td>\n",
              "      <td>0</td>\n",
              "      <td>2</td>\n",
              "      <td>Амурская область</td>\n",
              "      <td>3</td>\n",
              "    </tr>\n",
              "    <tr>\n",
              "      <th>3</th>\n",
              "      <td>2624870</td>\n",
              "      <td>Светлое время суток</td>\n",
              "      <td>Съезд с дороги</td>\n",
              "      <td>2021-09-10 15:00:00</td>\n",
              "      <td>Легкий</td>\n",
              "      <td>0</td>\n",
              "      <td>1</td>\n",
              "      <td>Амурская область</td>\n",
              "      <td>1</td>\n",
              "    </tr>\n",
              "    <tr>\n",
              "      <th>4</th>\n",
              "      <td>2536793</td>\n",
              "      <td>В темное время суток, освещение отсутствует</td>\n",
              "      <td>Опрокидывание</td>\n",
              "      <td>2021-01-16 20:30:00</td>\n",
              "      <td>Легкий</td>\n",
              "      <td>0</td>\n",
              "      <td>1</td>\n",
              "      <td>Амурская область</td>\n",
              "      <td>1</td>\n",
              "    </tr>\n",
              "  </tbody>\n",
              "</table>\n",
              "</div>\n",
              "    <div class=\"colab-df-buttons\">\n",
              "\n",
              "  <div class=\"colab-df-container\">\n",
              "    <button class=\"colab-df-convert\" onclick=\"convertToInteractive('df-2fffbac0-92c8-4822-ba99-113bfc37dcc6')\"\n",
              "            title=\"Convert this dataframe to an interactive table.\"\n",
              "            style=\"display:none;\">\n",
              "\n",
              "  <svg xmlns=\"http://www.w3.org/2000/svg\" height=\"24px\" viewBox=\"0 -960 960 960\">\n",
              "    <path d=\"M120-120v-720h720v720H120Zm60-500h600v-160H180v160Zm220 220h160v-160H400v160Zm0 220h160v-160H400v160ZM180-400h160v-160H180v160Zm440 0h160v-160H620v160ZM180-180h160v-160H180v160Zm440 0h160v-160H620v160Z\"/>\n",
              "  </svg>\n",
              "    </button>\n",
              "\n",
              "  <style>\n",
              "    .colab-df-container {\n",
              "      display:flex;\n",
              "      gap: 12px;\n",
              "    }\n",
              "\n",
              "    .colab-df-convert {\n",
              "      background-color: #E8F0FE;\n",
              "      border: none;\n",
              "      border-radius: 50%;\n",
              "      cursor: pointer;\n",
              "      display: none;\n",
              "      fill: #1967D2;\n",
              "      height: 32px;\n",
              "      padding: 0 0 0 0;\n",
              "      width: 32px;\n",
              "    }\n",
              "\n",
              "    .colab-df-convert:hover {\n",
              "      background-color: #E2EBFA;\n",
              "      box-shadow: 0px 1px 2px rgba(60, 64, 67, 0.3), 0px 1px 3px 1px rgba(60, 64, 67, 0.15);\n",
              "      fill: #174EA6;\n",
              "    }\n",
              "\n",
              "    .colab-df-buttons div {\n",
              "      margin-bottom: 4px;\n",
              "    }\n",
              "\n",
              "    [theme=dark] .colab-df-convert {\n",
              "      background-color: #3B4455;\n",
              "      fill: #D2E3FC;\n",
              "    }\n",
              "\n",
              "    [theme=dark] .colab-df-convert:hover {\n",
              "      background-color: #434B5C;\n",
              "      box-shadow: 0px 1px 3px 1px rgba(0, 0, 0, 0.15);\n",
              "      filter: drop-shadow(0px 1px 2px rgba(0, 0, 0, 0.3));\n",
              "      fill: #FFFFFF;\n",
              "    }\n",
              "  </style>\n",
              "\n",
              "    <script>\n",
              "      const buttonEl =\n",
              "        document.querySelector('#df-2fffbac0-92c8-4822-ba99-113bfc37dcc6 button.colab-df-convert');\n",
              "      buttonEl.style.display =\n",
              "        google.colab.kernel.accessAllowed ? 'block' : 'none';\n",
              "\n",
              "      async function convertToInteractive(key) {\n",
              "        const element = document.querySelector('#df-2fffbac0-92c8-4822-ba99-113bfc37dcc6');\n",
              "        const dataTable =\n",
              "          await google.colab.kernel.invokeFunction('convertToInteractive',\n",
              "                                                    [key], {});\n",
              "        if (!dataTable) return;\n",
              "\n",
              "        const docLinkHtml = 'Like what you see? Visit the ' +\n",
              "          '<a target=\"_blank\" href=https://colab.research.google.com/notebooks/data_table.ipynb>data table notebook</a>'\n",
              "          + ' to learn more about interactive tables.';\n",
              "        element.innerHTML = '';\n",
              "        dataTable['output_type'] = 'display_data';\n",
              "        await google.colab.output.renderOutput(dataTable, element);\n",
              "        const docLink = document.createElement('div');\n",
              "        docLink.innerHTML = docLinkHtml;\n",
              "        element.appendChild(docLink);\n",
              "      }\n",
              "    </script>\n",
              "  </div>\n",
              "\n",
              "\n",
              "<div id=\"df-3cddcbe6-a97f-4366-9629-87a1e33eea73\">\n",
              "  <button class=\"colab-df-quickchart\" onclick=\"quickchart('df-3cddcbe6-a97f-4366-9629-87a1e33eea73')\"\n",
              "            title=\"Suggest charts\"\n",
              "            style=\"display:none;\">\n",
              "\n",
              "<svg xmlns=\"http://www.w3.org/2000/svg\" height=\"24px\"viewBox=\"0 0 24 24\"\n",
              "     width=\"24px\">\n",
              "    <g>\n",
              "        <path d=\"M19 3H5c-1.1 0-2 .9-2 2v14c0 1.1.9 2 2 2h14c1.1 0 2-.9 2-2V5c0-1.1-.9-2-2-2zM9 17H7v-7h2v7zm4 0h-2V7h2v10zm4 0h-2v-4h2v4z\"/>\n",
              "    </g>\n",
              "</svg>\n",
              "  </button>\n",
              "\n",
              "<style>\n",
              "  .colab-df-quickchart {\n",
              "      --bg-color: #E8F0FE;\n",
              "      --fill-color: #1967D2;\n",
              "      --hover-bg-color: #E2EBFA;\n",
              "      --hover-fill-color: #174EA6;\n",
              "      --disabled-fill-color: #AAA;\n",
              "      --disabled-bg-color: #DDD;\n",
              "  }\n",
              "\n",
              "  [theme=dark] .colab-df-quickchart {\n",
              "      --bg-color: #3B4455;\n",
              "      --fill-color: #D2E3FC;\n",
              "      --hover-bg-color: #434B5C;\n",
              "      --hover-fill-color: #FFFFFF;\n",
              "      --disabled-bg-color: #3B4455;\n",
              "      --disabled-fill-color: #666;\n",
              "  }\n",
              "\n",
              "  .colab-df-quickchart {\n",
              "    background-color: var(--bg-color);\n",
              "    border: none;\n",
              "    border-radius: 50%;\n",
              "    cursor: pointer;\n",
              "    display: none;\n",
              "    fill: var(--fill-color);\n",
              "    height: 32px;\n",
              "    padding: 0;\n",
              "    width: 32px;\n",
              "  }\n",
              "\n",
              "  .colab-df-quickchart:hover {\n",
              "    background-color: var(--hover-bg-color);\n",
              "    box-shadow: 0 1px 2px rgba(60, 64, 67, 0.3), 0 1px 3px 1px rgba(60, 64, 67, 0.15);\n",
              "    fill: var(--button-hover-fill-color);\n",
              "  }\n",
              "\n",
              "  .colab-df-quickchart-complete:disabled,\n",
              "  .colab-df-quickchart-complete:disabled:hover {\n",
              "    background-color: var(--disabled-bg-color);\n",
              "    fill: var(--disabled-fill-color);\n",
              "    box-shadow: none;\n",
              "  }\n",
              "\n",
              "  .colab-df-spinner {\n",
              "    border: 2px solid var(--fill-color);\n",
              "    border-color: transparent;\n",
              "    border-bottom-color: var(--fill-color);\n",
              "    animation:\n",
              "      spin 1s steps(1) infinite;\n",
              "  }\n",
              "\n",
              "  @keyframes spin {\n",
              "    0% {\n",
              "      border-color: transparent;\n",
              "      border-bottom-color: var(--fill-color);\n",
              "      border-left-color: var(--fill-color);\n",
              "    }\n",
              "    20% {\n",
              "      border-color: transparent;\n",
              "      border-left-color: var(--fill-color);\n",
              "      border-top-color: var(--fill-color);\n",
              "    }\n",
              "    30% {\n",
              "      border-color: transparent;\n",
              "      border-left-color: var(--fill-color);\n",
              "      border-top-color: var(--fill-color);\n",
              "      border-right-color: var(--fill-color);\n",
              "    }\n",
              "    40% {\n",
              "      border-color: transparent;\n",
              "      border-right-color: var(--fill-color);\n",
              "      border-top-color: var(--fill-color);\n",
              "    }\n",
              "    60% {\n",
              "      border-color: transparent;\n",
              "      border-right-color: var(--fill-color);\n",
              "    }\n",
              "    80% {\n",
              "      border-color: transparent;\n",
              "      border-right-color: var(--fill-color);\n",
              "      border-bottom-color: var(--fill-color);\n",
              "    }\n",
              "    90% {\n",
              "      border-color: transparent;\n",
              "      border-bottom-color: var(--fill-color);\n",
              "    }\n",
              "  }\n",
              "</style>\n",
              "\n",
              "  <script>\n",
              "    async function quickchart(key) {\n",
              "      const quickchartButtonEl =\n",
              "        document.querySelector('#' + key + ' button');\n",
              "      quickchartButtonEl.disabled = true;  // To prevent multiple clicks.\n",
              "      quickchartButtonEl.classList.add('colab-df-spinner');\n",
              "      try {\n",
              "        const charts = await google.colab.kernel.invokeFunction(\n",
              "            'suggestCharts', [key], {});\n",
              "      } catch (error) {\n",
              "        console.error('Error during call to suggestCharts:', error);\n",
              "      }\n",
              "      quickchartButtonEl.classList.remove('colab-df-spinner');\n",
              "      quickchartButtonEl.classList.add('colab-df-quickchart-complete');\n",
              "    }\n",
              "    (() => {\n",
              "      let quickchartButtonEl =\n",
              "        document.querySelector('#df-3cddcbe6-a97f-4366-9629-87a1e33eea73 button');\n",
              "      quickchartButtonEl.style.display =\n",
              "        google.colab.kernel.accessAllowed ? 'block' : 'none';\n",
              "    })();\n",
              "  </script>\n",
              "</div>\n",
              "    </div>\n",
              "  </div>\n"
            ],
            "application/vnd.google.colaboratory.intrinsic+json": {
              "type": "dataframe",
              "variable_name": "data_base"
            }
          },
          "metadata": {},
          "execution_count": 16
        }
      ]
    },
    {
      "cell_type": "markdown",
      "source": [
        "- В столбце light присутствует 6 уникальных значений.\n",
        "Выведем на экран в алфавитном порядке.   \n",
        "После чего построим столбчатую диаграмму, чтобы определить значимые количества тех или иных значений в категориях"
      ],
      "metadata": {
        "id": "23obl5N6IWtx"
      }
    },
    {
      "cell_type": "code",
      "source": [
        "categ_disp(data_base, 'light', 'Освещенность при ДТП')"
      ],
      "metadata": {
        "colab": {
          "base_uri": "https://localhost:8080/",
          "height": 501
        },
        "id": "-zj-pNKWTAuz",
        "outputId": "9b9f762b-8c3b-47ac-cb84-f06f4134ffbf"
      },
      "execution_count": null,
      "outputs": [
        {
          "output_type": "display_data",
          "data": {
            "text/plain": [
              "<Figure size 700x500 with 1 Axes>"
            ],
            "image/png": "[encoded data removed]"
          },
          "metadata": {}
        }
      ]
    },
    {
      "cell_type": "code",
      "source": [
        "# создадим переменную a2 - она не займет много места, но с ней будет удобнее написать код\n",
        "a2 = sorted(data_base.light.unique().tolist())\n",
        "a2"
      ],
      "metadata": {
        "colab": {
          "base_uri": "https://localhost:8080/"
        },
        "id": "9MHZhS2IAFsV",
        "outputId": "7f41908d-4187-4bb3-8848-f7e4a9abc597"
      },
      "execution_count": null,
      "outputs": [
        {
          "output_type": "execute_result",
          "data": {
            "text/plain": [
              "['В темное время суток, освещение включено',\n",
              " 'В темное время суток, освещение не включено',\n",
              " 'В темное время суток, освещение отсутствует',\n",
              " 'Не установлено',\n",
              " 'Светлое время суток',\n",
              " 'Сумерки']"
            ]
          },
          "metadata": {},
          "execution_count": 18
        }
      ]
    },
    {
      "cell_type": "code",
      "source": [
        "# Объединим значений для не включенного и отссутствующего освещения\n",
        "data_base.loc[data_base.light == a2[1], 'light'] = a2[2]"
      ],
      "metadata": {
        "id": "jfXOcG2aAFug"
      },
      "execution_count": null,
      "outputs": []
    },
    {
      "cell_type": "code",
      "source": [
        "# Для корректности дальнейшей визуализации вернем ненадолго значениям в столбце light тип данных object\n",
        "data_base['light'] = data_base['light'].astype('object')"
      ],
      "metadata": {
        "id": "oDd1NSyzCmCU"
      },
      "execution_count": null,
      "outputs": []
    },
    {
      "cell_type": "code",
      "source": [
        "data_base.info()"
      ],
      "metadata": {
        "colab": {
          "base_uri": "https://localhost:8080/"
        },
        "id": "4MmFwyFAC2Tj",
        "outputId": "8f8b8b4b-d3bf-44d6-c0e9-7044d20ea478"
      },
      "execution_count": null,
      "outputs": [
        {
          "output_type": "stream",
          "name": "stdout",
          "text": [
            "<class 'pandas.core.frame.DataFrame'>\n",
            "RangeIndex: 1411646 entries, 0 to 1411645\n",
            "Data columns (total 9 columns):\n",
            " #   Column              Non-Null Count    Dtype         \n",
            "---  ------              --------------    -----         \n",
            " 0   id                  1411646 non-null  int32         \n",
            " 1   light               1411646 non-null  object        \n",
            " 2   category            1411646 non-null  object        \n",
            " 3   datetime            1411646 non-null  datetime64[ns]\n",
            " 4   severity            1411646 non-null  category      \n",
            " 5   dead_count          1411646 non-null  int8          \n",
            " 6   injured_count       1411646 non-null  int8          \n",
            " 7   parent_region       1411646 non-null  category      \n",
            " 8   participants_count  1411646 non-null  int8          \n",
            "dtypes: category(2), datetime64[ns](1), int32(1), int8(3), object(2)\n",
            "memory usage: 44.4+ MB\n"
          ]
        }
      ]
    },
    {
      "cell_type": "code",
      "source": [
        "data_base['light'].unique()"
      ],
      "metadata": {
        "colab": {
          "base_uri": "https://localhost:8080/"
        },
        "id": "Tsep8TslAFhF",
        "outputId": "fe57f493-98ed-464c-9194-df8a752ec143"
      },
      "execution_count": null,
      "outputs": [
        {
          "output_type": "execute_result",
          "data": {
            "text/plain": [
              "array(['В темное время суток, освещение отсутствует',\n",
              "       'Светлое время суток', 'В темное время суток, освещение включено',\n",
              "       'Сумерки', 'Не установлено'], dtype=object)"
            ]
          },
          "metadata": {},
          "execution_count": 22
        }
      ]
    },
    {
      "cell_type": "markdown",
      "source": [
        "- В столбце severity - категории \"Легкий\" и \"Тяжелый\" не несут для нас никакой информации, информацию о тяжести мя полуим из столбцов injured_count и dead_count. Систематизируем их и снизим их количество.  "
      ],
      "metadata": {
        "id": "nmXTJcmUJq13"
      }
    },
    {
      "cell_type": "code",
      "source": [
        "categ_disp(data_base, 'severity', 'Тяжесть ДТП')"
      ],
      "metadata": {
        "colab": {
          "base_uri": "https://localhost:8080/",
          "height": 501
        },
        "id": "jh_JrK5ATRz8",
        "outputId": "a7cc7cdb-0d06-4b4c-c1c3-f7349144d6ef"
      },
      "execution_count": null,
      "outputs": [
        {
          "output_type": "display_data",
          "data": {
            "text/plain": [
              "<Figure size 700x500 with 1 Axes>"
            ],
            "image/png": "[encoded data removed]"
          },
          "metadata": {}
        }
      ]
    },
    {
      "cell_type": "code",
      "source": [
        "# создадим переменную a3 - она не займет много места, но с ней будет удобнее написать код\n",
        "a3 = sorted(data_base.severity.unique().tolist())\n",
        "a3"
      ],
      "metadata": {
        "colab": {
          "base_uri": "https://localhost:8080/"
        },
        "outputId": "48d21c87-8695-4a8f-ff6f-7cae0985f3bc",
        "id": "jwvKHv-jJ5ud"
      },
      "execution_count": null,
      "outputs": [
        {
          "output_type": "execute_result",
          "data": {
            "text/plain": [
              "['Легкий', 'С погибшими', 'Тяжёлый']"
            ]
          },
          "metadata": {},
          "execution_count": 24
        }
      ]
    },
    {
      "cell_type": "code",
      "source": [
        "# Для корректности дальнейшей визуализации вернем ненадолго значениям в столбце light тип данных object\n",
        "data_base['severity'] = data_base['severity'].astype('object')"
      ],
      "metadata": {
        "id": "EGTFYb2TJ5ue"
      },
      "execution_count": null,
      "outputs": []
    },
    {
      "cell_type": "code",
      "source": [
        "# Объединим значения для леггих и тяжелых случаев\n",
        "data_base.loc[(data_base.severity == a3[0]) | (data_base.severity == a3[2]) , 'severity'] = \"Без погибших\""
      ],
      "metadata": {
        "id": "7pitCeMiJ5ue"
      },
      "execution_count": null,
      "outputs": []
    },
    {
      "cell_type": "code",
      "source": [
        "# Столбцам  category, light, severity вернем тип переменной category\n",
        "for i in ['category', 'light', 'severity']:\n",
        "  data_base[i] = data_base[i].astype('category')"
      ],
      "metadata": {
        "id": "6kRw5tgsAFd3"
      },
      "execution_count": null,
      "outputs": []
    },
    {
      "cell_type": "code",
      "source": [
        "data_base.info()"
      ],
      "metadata": {
        "colab": {
          "base_uri": "https://localhost:8080/"
        },
        "outputId": "66ca3317-9788-4166-ec50-4c242214ebb7",
        "id": "SSYuf1rQJ5ue"
      },
      "execution_count": null,
      "outputs": [
        {
          "output_type": "stream",
          "name": "stdout",
          "text": [
            "<class 'pandas.core.frame.DataFrame'>\n",
            "RangeIndex: 1411646 entries, 0 to 1411645\n",
            "Data columns (total 9 columns):\n",
            " #   Column              Non-Null Count    Dtype         \n",
            "---  ------              --------------    -----         \n",
            " 0   id                  1411646 non-null  int32         \n",
            " 1   light               1411646 non-null  category      \n",
            " 2   category            1411646 non-null  category      \n",
            " 3   datetime            1411646 non-null  datetime64[ns]\n",
            " 4   severity            1411646 non-null  category      \n",
            " 5   dead_count          1411646 non-null  int8          \n",
            " 6   injured_count       1411646 non-null  int8          \n",
            " 7   parent_region       1411646 non-null  category      \n",
            " 8   participants_count  1411646 non-null  int8          \n",
            "dtypes: category(4), datetime64[ns](1), int32(1), int8(3)\n",
            "memory usage: 25.6 MB\n"
          ]
        }
      ]
    },
    {
      "cell_type": "markdown",
      "source": [
        "Сохраним датафрейм на диск в формате .csv.   \n",
        "**Поскольку выгружаемый файл csv займет на ддиске более 200 МВ, нам придется разделить его на две части и вырузить по частям**\n",
        "После чего обратимся к DataLens  и построим дашборд со следующими чартами:\n",
        "- количество ДТП:\n",
        " - по годам и по месяцам - как визуализация гипотезы \"Безопасность на дорогах растет для каждого из участников\"\n",
        " - по регионам\n",
        " - по времени суток\n",
        " - по категории - наезд, столкновение  и прочее\n",
        " - количество погибших\n",
        " - количество пострадавших\n",
        " - количество участников ДТП\n",
        " - доля погибщих к количеству участников ДТП\n",
        " - доля пострадавших к количеству участников ДТП\n",
        "\n",
        "Установим фильтры:\n",
        "- количество погибших\n",
        "- количество пострадавших\n",
        "- год\n",
        "- месяц\n",
        "- время суток\n",
        "- регион\n",
        "- Днем/ночью/ освещение\n",
        "\n",
        "\n",
        "- пьяный/трезвый\n",
        "- умерли в течение какого периода после ДТП\n",
        "- С пешеходами и без пешеходов\n",
        "- В зависимости от цвета ТС\n",
        "- В зависимости от местонахождения – nearby или в/за городом\n",
        "- В зависимости от состояния дороги road_conditions\n",
        "- От вида ТС\n",
        "\n",
        "**Но нам нужны удельные показатели**\n",
        "\n",
        "\n"
      ],
      "metadata": {
        "id": "H0lA6mn81bGd"
      }
    },
    {
      "cell_type": "code",
      "source": [
        "# Поскольку выгружаемый файл csv займет на ддиске более 200 МВ, нам придется разделить его на две части и вырузить по частям\n",
        "# Выведем столбцы\n",
        "data_base.columns"
      ],
      "metadata": {
        "colab": {
          "base_uri": "https://localhost:8080/"
        },
        "id": "i1jLx7LmRaCB",
        "outputId": "796103cc-f349-47cd-b10f-0e2316240c4d"
      },
      "execution_count": null,
      "outputs": [
        {
          "output_type": "execute_result",
          "data": {
            "text/plain": [
              "Index(['id', 'light', 'category', 'datetime', 'severity', 'dead_count',\n",
              "       'injured_count', 'parent_region', 'participants_count'],\n",
              "      dtype='object')"
            ]
          },
          "metadata": {},
          "execution_count": 29
        }
      ]
    },
    {
      "cell_type": "code",
      "source": [
        "'''# Разделим  data_base на две части\n",
        "data_base_part_1 = data_base[data_base.columns[:4]]\n",
        "data_base_part_2 = data_base[['id'] + data_base.columns[4:].tolist() ]\n",
        "# print(f'data_base_part_1\\n {data_base_part_1.head(2)} \\n\\n data_base_part_2 \\n{data_base_part_2.head(2)}')\n",
        "'''"
      ],
      "metadata": {
        "id": "fFvf9BXROnIL",
        "colab": {
          "base_uri": "https://localhost:8080/",
          "height": 53
        },
        "outputId": "e1806161-ee6e-4f33-de7b-71198e0532e0"
      },
      "execution_count": null,
      "outputs": [
        {
          "output_type": "execute_result",
          "data": {
            "text/plain": [
              "\"# Разделим  data_base на две части\\ndata_base_part_1 = data_base[data_base.columns[:4]]\\ndata_base_part_2 = data_base[['id'] + data_base.columns[4:].tolist() ]\\n# print(f'data_base_part_1\\n {data_base_part_1.head(2)} \\n\\n data_base_part_2 \\n{data_base_part_2.head(2)}')\\n\""
            ],
            "application/vnd.google.colaboratory.intrinsic+json": {
              "type": "string"
            }
          },
          "metadata": {},
          "execution_count": 30
        }
      ]
    },
    {
      "cell_type": "code",
      "source": [
        "'''# Сохраним обе части на диск в формате .csv\n",
        "data_base_part_1.to_csv(r'/content/drive/MyDrive/Мастерская_Аналитика_ДТП/data_base_part_1.csv', sep=',')\n",
        "data_base_part_2.to_csv(r'/content/drive/MyDrive/Мастерская_Аналитика_ДТП/data_base_part_2.csv', sep=',')\n",
        "'''"
      ],
      "metadata": {
        "id": "BWpT_1_GGNU9",
        "colab": {
          "base_uri": "https://localhost:8080/",
          "height": 53
        },
        "outputId": "0fa0d30c-c3bf-456b-c045-092ff2d96f40"
      },
      "execution_count": null,
      "outputs": [
        {
          "output_type": "execute_result",
          "data": {
            "text/plain": [
              "\"# Сохраним обе части на диск в формате .csv\\ndata_base_part_1.to_csv(r'/content/drive/MyDrive/Мастерская_Аналитика_ДТП/data_base_part_1.csv', sep=',')\\ndata_base_part_2.to_csv(r'/content/drive/MyDrive/Мастерская_Аналитика_ДТП/data_base_part_2.csv', sep=',')\\n\""
            ],
            "application/vnd.google.colaboratory.intrinsic+json": {
              "type": "string"
            }
          },
          "metadata": {},
          "execution_count": 31
        }
      ]
    },
    {
      "cell_type": "code",
      "source": [
        "# Разделим  data_base на четыре части\n",
        "#data_base_part_11 = data_base[data_base.columns[:3]]\n",
        "data_base_part_12 = data_base[['id'] + data_base.columns[3:5].tolist() ]\n",
        "data_base_part_13 = data_base[['id'] + data_base.columns[5:7].tolist() ]\n",
        "data_base_part_14 = data_base[['id'] + data_base.columns[7:].tolist() ]\n",
        "# print(f'data_base_part_1\\n {data_base_part_1.head(2)} \\n\\n data_base_part_2 \\n{data_base_part_2.head(2)}')"
      ],
      "metadata": {
        "id": "Z87JUBSquDm0"
      },
      "execution_count": null,
      "outputs": []
    },
    {
      "cell_type": "code",
      "source": [
        "'''# Сохраним обе части на диск в формате .csv\n",
        "data_base_part_11.to_csv(r'/content/drive/MyDrive/Мастерская_Аналитика_ДТП/data_base_part_11.csv', sep=',')\n",
        "data_base_part_12.to_csv(r'/content/drive/MyDrive/Мастерская_Аналитика_ДТП/data_base_part_12.csv', sep=',')\n",
        "data_base_part_13.to_csv(r'/content/drive/MyDrive/Мастерская_Аналитика_ДТП/data_base_part_13.csv', sep=',')\n",
        "data_base_part_14.to_csv(r'/content/drive/MyDrive/Мастерская_Аналитика_ДТП/data_base_part_14.csv', sep=',')\n",
        "'''"
      ],
      "metadata": {
        "id": "hgHCtGs1uDnR",
        "colab": {
          "base_uri": "https://localhost:8080/",
          "height": 70
        },
        "outputId": "d8f55323-949e-4e7d-fb0c-ceef8eb8a5e0"
      },
      "execution_count": null,
      "outputs": [
        {
          "output_type": "execute_result",
          "data": {
            "text/plain": [
              "\"# Сохраним обе части на диск в формате .csv\\ndata_base_part_11.to_csv(r'/content/drive/MyDrive/Мастерская_Аналитика_ДТП/data_base_part_11.csv', sep=',')\\ndata_base_part_12.to_csv(r'/content/drive/MyDrive/Мастерская_Аналитика_ДТП/data_base_part_12.csv', sep=',')\\ndata_base_part_13.to_csv(r'/content/drive/MyDrive/Мастерская_Аналитика_ДТП/data_base_part_13.csv', sep=',')\\ndata_base_part_14.to_csv(r'/content/drive/MyDrive/Мастерская_Аналитика_ДТП/data_base_part_14.csv', sep=',')\\n\""
            ],
            "application/vnd.google.colaboratory.intrinsic+json": {
              "type": "string"
            }
          },
          "metadata": {},
          "execution_count": 33
        }
      ]
    },
    {
      "cell_type": "code",
      "source": [
        "del data_base"
      ],
      "metadata": {
        "id": "VRopIFW2QNk_"
      },
      "execution_count": null,
      "outputs": []
    },
    {
      "cell_type": "markdown",
      "source": [
        "# Загрузим и подготовим второй файл - data_vehicles - с основными данными"
      ],
      "metadata": {
        "id": "g5mjfBub9jvg"
      }
    },
    {
      "cell_type": "code",
      "execution_count": null,
      "metadata": {
        "colab": {
          "base_uri": "https://localhost:8080/",
          "height": 224
        },
        "outputId": "329adf39-1782-495b-ea45-57150b3e4946",
        "id": "igmZem4787A5"
      },
      "outputs": [
        {
          "output_type": "stream",
          "name": "stdout",
          "text": [
            "data_vehicles.pickle\n"
          ]
        },
        {
          "output_type": "display_data",
          "data": {
            "text/plain": [
              "        id  year         brand   color                     model  \\\n",
              "0  2525237  2018           ПАЗ   Белый                     32054   \n",
              "1  2060303  2003        TOYOTA  Черный                     Crown   \n",
              "2  2624862  2003  FREIGHTLINER   Белый         Century Class S/T   \n",
              "3  2624862  2014    MITSUBISHI   Белый  Прочие модели Mitsubishi   \n",
              "4  2624870  2011        TOYOTA   Серый                   Corolla   \n",
              "\n",
              "                                       category  \n",
              "0                            Прочие одноярусные  \n",
              "1  С-класс (малый средний, компактный) до 4,3 м  \n",
              "2                              Седельные тягачи  \n",
              "3                  Бортовые грузовые автомобили  \n",
              "4                    D-класс (средний) до 4,6 м  "
            ],
            "text/html": [
              "\n",
              "  <div id=\"df-42a169d3-48fb-44de-930f-a1b1b114fe4f\" class=\"colab-df-container\">\n",
              "    <div>\n",
              "<style scoped>\n",
              "    .dataframe tbody tr th:only-of-type {\n",
              "        vertical-align: middle;\n",
              "    }\n",
              "\n",
              "    .dataframe tbody tr th {\n",
              "        vertical-align: top;\n",
              "    }\n",
              "\n",
              "    .dataframe thead th {\n",
              "        text-align: right;\n",
              "    }\n",
              "</style>\n",
              "<table border=\"1\" class=\"dataframe\">\n",
              "  <thead>\n",
              "    <tr style=\"text-align: right;\">\n",
              "      <th></th>\n",
              "      <th>id</th>\n",
              "      <th>year</th>\n",
              "      <th>brand</th>\n",
              "      <th>color</th>\n",
              "      <th>model</th>\n",
              "      <th>category</th>\n",
              "    </tr>\n",
              "  </thead>\n",
              "  <tbody>\n",
              "    <tr>\n",
              "      <th>0</th>\n",
              "      <td>2525237</td>\n",
              "      <td>2018</td>\n",
              "      <td>ПАЗ</td>\n",
              "      <td>Белый</td>\n",
              "      <td>32054</td>\n",
              "      <td>Прочие одноярусные</td>\n",
              "    </tr>\n",
              "    <tr>\n",
              "      <th>1</th>\n",
              "      <td>2060303</td>\n",
              "      <td>2003</td>\n",
              "      <td>TOYOTA</td>\n",
              "      <td>Черный</td>\n",
              "      <td>Crown</td>\n",
              "      <td>С-класс (малый средний, компактный) до 4,3 м</td>\n",
              "    </tr>\n",
              "    <tr>\n",
              "      <th>2</th>\n",
              "      <td>2624862</td>\n",
              "      <td>2003</td>\n",
              "      <td>FREIGHTLINER</td>\n",
              "      <td>Белый</td>\n",
              "      <td>Century Class S/T</td>\n",
              "      <td>Седельные тягачи</td>\n",
              "    </tr>\n",
              "    <tr>\n",
              "      <th>3</th>\n",
              "      <td>2624862</td>\n",
              "      <td>2014</td>\n",
              "      <td>MITSUBISHI</td>\n",
              "      <td>Белый</td>\n",
              "      <td>Прочие модели Mitsubishi</td>\n",
              "      <td>Бортовые грузовые автомобили</td>\n",
              "    </tr>\n",
              "    <tr>\n",
              "      <th>4</th>\n",
              "      <td>2624870</td>\n",
              "      <td>2011</td>\n",
              "      <td>TOYOTA</td>\n",
              "      <td>Серый</td>\n",
              "      <td>Corolla</td>\n",
              "      <td>D-класс (средний) до 4,6 м</td>\n",
              "    </tr>\n",
              "  </tbody>\n",
              "</table>\n",
              "</div>\n",
              "    <div class=\"colab-df-buttons\">\n",
              "\n",
              "  <div class=\"colab-df-container\">\n",
              "    <button class=\"colab-df-convert\" onclick=\"convertToInteractive('df-42a169d3-48fb-44de-930f-a1b1b114fe4f')\"\n",
              "            title=\"Convert this dataframe to an interactive table.\"\n",
              "            style=\"display:none;\">\n",
              "\n",
              "  <svg xmlns=\"http://www.w3.org/2000/svg\" height=\"24px\" viewBox=\"0 -960 960 960\">\n",
              "    <path d=\"M120-120v-720h720v720H120Zm60-500h600v-160H180v160Zm220 220h160v-160H400v160Zm0 220h160v-160H400v160ZM180-400h160v-160H180v160Zm440 0h160v-160H620v160ZM180-180h160v-160H180v160Zm440 0h160v-160H620v160Z\"/>\n",
              "  </svg>\n",
              "    </button>\n",
              "\n",
              "  <style>\n",
              "    .colab-df-container {\n",
              "      display:flex;\n",
              "      gap: 12px;\n",
              "    }\n",
              "\n",
              "    .colab-df-convert {\n",
              "      background-color: #E8F0FE;\n",
              "      border: none;\n",
              "      border-radius: 50%;\n",
              "      cursor: pointer;\n",
              "      display: none;\n",
              "      fill: #1967D2;\n",
              "      height: 32px;\n",
              "      padding: 0 0 0 0;\n",
              "      width: 32px;\n",
              "    }\n",
              "\n",
              "    .colab-df-convert:hover {\n",
              "      background-color: #E2EBFA;\n",
              "      box-shadow: 0px 1px 2px rgba(60, 64, 67, 0.3), 0px 1px 3px 1px rgba(60, 64, 67, 0.15);\n",
              "      fill: #174EA6;\n",
              "    }\n",
              "\n",
              "    .colab-df-buttons div {\n",
              "      margin-bottom: 4px;\n",
              "    }\n",
              "\n",
              "    [theme=dark] .colab-df-convert {\n",
              "      background-color: #3B4455;\n",
              "      fill: #D2E3FC;\n",
              "    }\n",
              "\n",
              "    [theme=dark] .colab-df-convert:hover {\n",
              "      background-color: #434B5C;\n",
              "      box-shadow: 0px 1px 3px 1px rgba(0, 0, 0, 0.15);\n",
              "      filter: drop-shadow(0px 1px 2px rgba(0, 0, 0, 0.3));\n",
              "      fill: #FFFFFF;\n",
              "    }\n",
              "  </style>\n",
              "\n",
              "    <script>\n",
              "      const buttonEl =\n",
              "        document.querySelector('#df-42a169d3-48fb-44de-930f-a1b1b114fe4f button.colab-df-convert');\n",
              "      buttonEl.style.display =\n",
              "        google.colab.kernel.accessAllowed ? 'block' : 'none';\n",
              "\n",
              "      async function convertToInteractive(key) {\n",
              "        const element = document.querySelector('#df-42a169d3-48fb-44de-930f-a1b1b114fe4f');\n",
              "        const dataTable =\n",
              "          await google.colab.kernel.invokeFunction('convertToInteractive',\n",
              "                                                    [key], {});\n",
              "        if (!dataTable) return;\n",
              "\n",
              "        const docLinkHtml = 'Like what you see? Visit the ' +\n",
              "          '<a target=\"_blank\" href=https://colab.research.google.com/notebooks/data_table.ipynb>data table notebook</a>'\n",
              "          + ' to learn more about interactive tables.';\n",
              "        element.innerHTML = '';\n",
              "        dataTable['output_type'] = 'display_data';\n",
              "        await google.colab.output.renderOutput(dataTable, element);\n",
              "        const docLink = document.createElement('div');\n",
              "        docLink.innerHTML = docLinkHtml;\n",
              "        element.appendChild(docLink);\n",
              "      }\n",
              "    </script>\n",
              "  </div>\n",
              "\n",
              "\n",
              "<div id=\"df-3b67879b-51bf-48ba-b0a7-4d1b05d3dc84\">\n",
              "  <button class=\"colab-df-quickchart\" onclick=\"quickchart('df-3b67879b-51bf-48ba-b0a7-4d1b05d3dc84')\"\n",
              "            title=\"Suggest charts\"\n",
              "            style=\"display:none;\">\n",
              "\n",
              "<svg xmlns=\"http://www.w3.org/2000/svg\" height=\"24px\"viewBox=\"0 0 24 24\"\n",
              "     width=\"24px\">\n",
              "    <g>\n",
              "        <path d=\"M19 3H5c-1.1 0-2 .9-2 2v14c0 1.1.9 2 2 2h14c1.1 0 2-.9 2-2V5c0-1.1-.9-2-2-2zM9 17H7v-7h2v7zm4 0h-2V7h2v10zm4 0h-2v-4h2v4z\"/>\n",
              "    </g>\n",
              "</svg>\n",
              "  </button>\n",
              "\n",
              "<style>\n",
              "  .colab-df-quickchart {\n",
              "      --bg-color: #E8F0FE;\n",
              "      --fill-color: #1967D2;\n",
              "      --hover-bg-color: #E2EBFA;\n",
              "      --hover-fill-color: #174EA6;\n",
              "      --disabled-fill-color: #AAA;\n",
              "      --disabled-bg-color: #DDD;\n",
              "  }\n",
              "\n",
              "  [theme=dark] .colab-df-quickchart {\n",
              "      --bg-color: #3B4455;\n",
              "      --fill-color: #D2E3FC;\n",
              "      --hover-bg-color: #434B5C;\n",
              "      --hover-fill-color: #FFFFFF;\n",
              "      --disabled-bg-color: #3B4455;\n",
              "      --disabled-fill-color: #666;\n",
              "  }\n",
              "\n",
              "  .colab-df-quickchart {\n",
              "    background-color: var(--bg-color);\n",
              "    border: none;\n",
              "    border-radius: 50%;\n",
              "    cursor: pointer;\n",
              "    display: none;\n",
              "    fill: var(--fill-color);\n",
              "    height: 32px;\n",
              "    padding: 0;\n",
              "    width: 32px;\n",
              "  }\n",
              "\n",
              "  .colab-df-quickchart:hover {\n",
              "    background-color: var(--hover-bg-color);\n",
              "    box-shadow: 0 1px 2px rgba(60, 64, 67, 0.3), 0 1px 3px 1px rgba(60, 64, 67, 0.15);\n",
              "    fill: var(--button-hover-fill-color);\n",
              "  }\n",
              "\n",
              "  .colab-df-quickchart-complete:disabled,\n",
              "  .colab-df-quickchart-complete:disabled:hover {\n",
              "    background-color: var(--disabled-bg-color);\n",
              "    fill: var(--disabled-fill-color);\n",
              "    box-shadow: none;\n",
              "  }\n",
              "\n",
              "  .colab-df-spinner {\n",
              "    border: 2px solid var(--fill-color);\n",
              "    border-color: transparent;\n",
              "    border-bottom-color: var(--fill-color);\n",
              "    animation:\n",
              "      spin 1s steps(1) infinite;\n",
              "  }\n",
              "\n",
              "  @keyframes spin {\n",
              "    0% {\n",
              "      border-color: transparent;\n",
              "      border-bottom-color: var(--fill-color);\n",
              "      border-left-color: var(--fill-color);\n",
              "    }\n",
              "    20% {\n",
              "      border-color: transparent;\n",
              "      border-left-color: var(--fill-color);\n",
              "      border-top-color: var(--fill-color);\n",
              "    }\n",
              "    30% {\n",
              "      border-color: transparent;\n",
              "      border-left-color: var(--fill-color);\n",
              "      border-top-color: var(--fill-color);\n",
              "      border-right-color: var(--fill-color);\n",
              "    }\n",
              "    40% {\n",
              "      border-color: transparent;\n",
              "      border-right-color: var(--fill-color);\n",
              "      border-top-color: var(--fill-color);\n",
              "    }\n",
              "    60% {\n",
              "      border-color: transparent;\n",
              "      border-right-color: var(--fill-color);\n",
              "    }\n",
              "    80% {\n",
              "      border-color: transparent;\n",
              "      border-right-color: var(--fill-color);\n",
              "      border-bottom-color: var(--fill-color);\n",
              "    }\n",
              "    90% {\n",
              "      border-color: transparent;\n",
              "      border-bottom-color: var(--fill-color);\n",
              "    }\n",
              "  }\n",
              "</style>\n",
              "\n",
              "  <script>\n",
              "    async function quickchart(key) {\n",
              "      const quickchartButtonEl =\n",
              "        document.querySelector('#' + key + ' button');\n",
              "      quickchartButtonEl.disabled = true;  // To prevent multiple clicks.\n",
              "      quickchartButtonEl.classList.add('colab-df-spinner');\n",
              "      try {\n",
              "        const charts = await google.colab.kernel.invokeFunction(\n",
              "            'suggestCharts', [key], {});\n",
              "      } catch (error) {\n",
              "        console.error('Error during call to suggestCharts:', error);\n",
              "      }\n",
              "      quickchartButtonEl.classList.remove('colab-df-spinner');\n",
              "      quickchartButtonEl.classList.add('colab-df-quickchart-complete');\n",
              "    }\n",
              "    (() => {\n",
              "      let quickchartButtonEl =\n",
              "        document.querySelector('#df-3b67879b-51bf-48ba-b0a7-4d1b05d3dc84 button');\n",
              "      quickchartButtonEl.style.display =\n",
              "        google.colab.kernel.accessAllowed ? 'block' : 'none';\n",
              "    })();\n",
              "  </script>\n",
              "</div>\n",
              "    </div>\n",
              "  </div>\n"
            ],
            "application/vnd.google.colaboratory.intrinsic+json": {
              "type": "dataframe",
              "summary": "{\n  \"name\": \"      display(data_vehicles\",\n  \"rows\": 5,\n  \"fields\": [\n    {\n      \"column\": \"id\",\n      \"properties\": {\n        \"dtype\": \"int32\",\n        \"num_unique_values\": 4,\n        \"samples\": [\n          2060303,\n          2624870,\n          2525237\n        ],\n        \"semantic_type\": \"\",\n        \"description\": \"\"\n      }\n    },\n    {\n      \"column\": \"year\",\n      \"properties\": {\n        \"dtype\": \"date\",\n        \"min\": 2003,\n        \"max\": 2018,\n        \"num_unique_values\": 4,\n        \"samples\": [\n          2003,\n          2011,\n          2018\n        ],\n        \"semantic_type\": \"\",\n        \"description\": \"\"\n      }\n    },\n    {\n      \"column\": \"brand\",\n      \"properties\": {\n        \"dtype\": \"category\",\n        \"num_unique_values\": 4,\n        \"samples\": [\n          \"TOYOTA\",\n          \"MITSUBISHI\",\n          \"\\u041f\\u0410\\u0417\"\n        ],\n        \"semantic_type\": \"\",\n        \"description\": \"\"\n      }\n    },\n    {\n      \"column\": \"color\",\n      \"properties\": {\n        \"dtype\": \"category\",\n        \"num_unique_values\": 3,\n        \"samples\": [\n          \"\\u0411\\u0435\\u043b\\u044b\\u0439\",\n          \"\\u0427\\u0435\\u0440\\u043d\\u044b\\u0439\",\n          \"\\u0421\\u0435\\u0440\\u044b\\u0439\"\n        ],\n        \"semantic_type\": \"\",\n        \"description\": \"\"\n      }\n    },\n    {\n      \"column\": \"model\",\n      \"properties\": {\n        \"dtype\": \"category\",\n        \"num_unique_values\": 5,\n        \"samples\": [\n          \"Crown\",\n          \"Corolla\",\n          \"Century Class S/T\"\n        ],\n        \"semantic_type\": \"\",\n        \"description\": \"\"\n      }\n    },\n    {\n      \"column\": \"category\",\n      \"properties\": {\n        \"dtype\": \"category\",\n        \"num_unique_values\": 5,\n        \"samples\": [\n          \"\\u0421-\\u043a\\u043b\\u0430\\u0441\\u0441 (\\u043c\\u0430\\u043b\\u044b\\u0439 \\u0441\\u0440\\u0435\\u0434\\u043d\\u0438\\u0439, \\u043a\\u043e\\u043c\\u043f\\u0430\\u043a\\u0442\\u043d\\u044b\\u0439) \\u0434\\u043e 4,3 \\u043c\",\n          \"D-\\u043a\\u043b\\u0430\\u0441\\u0441 (\\u0441\\u0440\\u0435\\u0434\\u043d\\u0438\\u0439) \\u0434\\u043e 4,6 \\u043c\",\n          \"\\u0421\\u0435\\u0434\\u0435\\u043b\\u044c\\u043d\\u044b\\u0435 \\u0442\\u044f\\u0433\\u0430\\u0447\\u0438\"\n        ],\n        \"semantic_type\": \"\",\n        \"description\": \"\"\n      }\n    }\n  ]\n}"
            }
          },
          "metadata": {}
        }
      ],
      "source": [
        "# Загрузим первый файл\n",
        "for i in os.listdir():\n",
        "    if 'data_vehicles.pickle' in i:\n",
        "      print(i)\n",
        "      with open(i, 'rb') as file:\n",
        "          data_vehicles = pickle.load(file)\n",
        "      display(data_vehicles.head())"
      ]
    },
    {
      "cell_type": "code",
      "source": [
        "# Удалим невостребованные столбцы\n",
        "#data_vehicles = data_vehicles.drop(columns=(['coordinates', 'lat', 'long', 'region', 'address', 'nearby', 'tags', 'weather', 'road_conditions', 'participant_categories']))"
      ],
      "metadata": {
        "id": "mgfWBpnX87A8"
      },
      "execution_count": null,
      "outputs": []
    },
    {
      "cell_type": "code",
      "source": [
        "# Для каждого столбца выведем на экран уникальные значения и их количество\n",
        "for i in data_vehicles.columns:\n",
        "  print(f'\\033[1m\\033[95mСтолбец {i} \\033[0m\\n Количество значений {data_vehicles[i].nunique()}  \\n {data_vehicles[i].unique()}')"
      ],
      "metadata": {
        "colab": {
          "base_uri": "https://localhost:8080/"
        },
        "outputId": "2c33cb16-c6e3-4fe2-ce48-f109b3e844b9",
        "id": "_v50Jsdy87A8"
      },
      "execution_count": null,
      "outputs": [
        {
          "output_type": "stream",
          "name": "stdout",
          "text": [
            "\u001b[1m\u001b[95mСтолбец id \u001b[0m\n",
            " Количество значений 1411646  \n",
            " [2525237 2060303 2624862 ... 1867222 1874000 1867695]\n",
            "\u001b[1m\u001b[95mСтолбец year \u001b[0m\n",
            " Количество значений 94  \n",
            " [2018 2003 2014 2011 2010 2013 1980 1993 1988 2017 1999 2005 1985 1982\n",
            " 1987 2000 2012 1996 1998 1997 1990 'Не заполнено' 2020 1986 1984 2016\n",
            " 2021 2007 2002 1983 2001 2008 2004 2006 2019 1975 1994 2009 1992 1991\n",
            " 2022 1989 1974 2015 1995 1977 2023 1981 1979 1978 1972 1969 1967 1968\n",
            " 1959 1976 1963 1970 1973 1962 1971 1964 1960 1958 1965 1951 1948 1956\n",
            " 1950 1966 1955 1961 1957 1923 2024 1954 1952 1910 1911 1953 1909 1919\n",
            " 1949 1928 1920 1941 1937 1918 1936 1907 1942 1946 1934 1901]\n",
            "\u001b[1m\u001b[95mСтолбец brand \u001b[0m\n",
            " Количество значений 369  \n",
            " ['ПАЗ', 'TOYOTA', 'FREIGHTLINER', 'MITSUBISHI', 'NISSAN', ..., 'CONFEDERATE', 'MORGAN', 'MC LAREN', 'AUTOBIANCHI', 'TALBOT']\n",
            "Length: 369\n",
            "Categories (369, object): ['ABM', 'AC', 'ACURA', 'ADMIRAL', ..., 'СимАЗ', 'ТАГАЗ (TAGAZ)', 'УАЗ',\n",
            "                           'УРАЛ']\n",
            "\u001b[1m\u001b[95mСтолбец color \u001b[0m\n",
            " Количество значений 13  \n",
            " ['Белый', 'Черный', 'Серый', 'Синий', 'Иные цвета', ..., 'Коричневый', 'Фиолетовый', 'Многоцветный', 'Не заполнено', 'Оранжевый']\n",
            "Length: 13\n",
            "Categories (13, object): ['Белый', 'Желтый', 'Зеленый', 'Иные цвета', ..., 'Серый', 'Синий',\n",
            "                          'Фиолетовый', 'Черный']\n",
            "\u001b[1m\u001b[95mСтолбец model \u001b[0m\n",
            " Количество значений 2780  \n",
            " ['32054', 'Crown', 'Century Class S/T', 'Прочие модели Mitsubishi', 'Corolla', ..., 'Aztec', 'MD6101', '350 TV', 'Raider', 'Прочие модели BOVA']\n",
            "Length: 2780\n",
            "Categories (2780, object): ['10', '100', '100 G 7 T', '100 NX', ..., 'Шасси 6х2 (2429)',\n",
            "                            'Юнкер', 'Юпитер', 'прочие модели Hyundai']\n",
            "\u001b[1m\u001b[95mСтолбец category \u001b[0m\n",
            " Количество значений 102  \n",
            " ['Прочие одноярусные', 'С-класс (малый средний, компактный) до 4,3 м', 'Седельные тягачи', 'Бортовые грузовые автомобили', 'D-класс (средний) до 4,6 м', ..., 'Транспортные средства для обслуживания нефтян..., 'Автобетононасосы', 'Электробусы', 'Полуприцепы прочие', 'Прицепы к легковым автомобилям']\n",
            "Length: 102\n",
            "Categories (102, object): ['D-класс (средний) до 4,6 м', 'S-класс (высший, представительский класс) бол...,\n",
            "                           'А-класс (особо малый) до 3,5 м', 'Автобетононасосы', ..., 'Шасси', 'Школьные автобусы',\n",
            "                           'Экскаваторы', 'Электробусы']\n"
          ]
        }
      ]
    },
    {
      "cell_type": "markdown",
      "source": [
        "\n",
        "- В столбце brand  и столбце model присутствуют 369 и 2780 уникальных значений. Нет возможности их унифицировать. Оставим их без изменений.\n",
        "- В столбце category присутствует 102 уникальных значения. Систематизируем их и снизим их количество.   \n",
        "  \n",
        "\n",
        "---\n",
        "\n"
      ],
      "metadata": {
        "id": "d4QA_-VD87A9"
      }
    },
    {
      "cell_type": "markdown",
      "source": [
        "- В столбце category присутствуют 102 уникальных значения. Систематизируем их и снизим их количество.   \n",
        "Выведем на экран в алфавитном порядке.   \n",
        "После чего построим столбчатую диаграмму, чтобы определить значимые количества тех или иных значений в категориях"
      ],
      "metadata": {
        "id": "CTau_-OG87A-"
      }
    },
    {
      "cell_type": "code",
      "source": [
        "sorted(data_vehicles.category.unique().tolist())"
      ],
      "metadata": {
        "colab": {
          "base_uri": "https://localhost:8080/"
        },
        "outputId": "31c09496-88c6-4254-fa61-619893c7ea20",
        "id": "gk_b43Ko87A-"
      },
      "execution_count": null,
      "outputs": [
        {
          "output_type": "execute_result",
          "data": {
            "text/plain": [
              "['D-класс (средний) до 4,6 м',\n",
              " 'S-класс (высший, представительский класс) более 4,9 м',\n",
              " 'А-класс (особо малый) до 3,5 м',\n",
              " 'Автобетононасосы',\n",
              " 'Автобетоносмесители',\n",
              " 'Автобусы (без типа)',\n",
              " 'Автогрейдеры',\n",
              " 'Автогудронаторы',\n",
              " 'Автодома',\n",
              " 'Автокраны и транспортные средства, оснащенные кранами-манипуляторами',\n",
              " 'Автолесовозы',\n",
              " 'Автомобили скорой медицинской помощи',\n",
              " 'Автоцементовозы',\n",
              " 'Автоэвакуаторы',\n",
              " 'Боевая техника',\n",
              " 'Бортовые',\n",
              " 'Бортовые грузовые автомобили',\n",
              " 'Бульдозеры',\n",
              " 'В-класс (малый) до 3,9 м',\n",
              " 'Велосипеды',\n",
              " 'Грузовые автомобили (без типа)',\n",
              " 'Гужевой транспорт',\n",
              " 'Двухэтажные',\n",
              " 'Двухярусные',\n",
              " 'Е-класс (высший средний, бизнес-класс) до 4,9 м',\n",
              " 'Иные ТС',\n",
              " 'Иные дорожно-строительные и дорожно-эксплуатационные машины и механизмы',\n",
              " 'Иные мототранспортные средства',\n",
              " 'Карьерные самосвалы',\n",
              " 'Квадрициклы',\n",
              " 'Квадроциклы',\n",
              " 'Легковые автомобили (без типа)',\n",
              " 'Медицинские комплексы на шасси транспортных средств',\n",
              " 'Минивэны и универсалы повышенной вместимости',\n",
              " 'Мопеды с двигателем внутреннего сгорания более 50 см. куб.',\n",
              " 'Мопеды с двигателем внутреннего сгорания менее 50 см. куб.',\n",
              " 'Мопеды с электродвигателем менее 4 кВт',\n",
              " 'Мотовелосипеды',\n",
              " 'Мотоколяски',\n",
              " 'Мотонарты, аэросани',\n",
              " 'Мотороллеры',\n",
              " 'Мототранспорт (без типа)',\n",
              " 'Мотоциклы',\n",
              " 'Не заполнено',\n",
              " 'Не установлено',\n",
              " 'Не установлено (без типа)',\n",
              " 'Одноэтажные длиной не более 5 м',\n",
              " 'Одноэтажные длиной от 5 до 8 м',\n",
              " 'Одноэтажные длиной от 8 до 12 м',\n",
              " 'Одноэтажные, сочлененные длиной более 12 м',\n",
              " 'Оснащённые специализированным оборудованием  автотранспортные средства для коммунального хозяйства и  содержания дорог',\n",
              " 'Оснащённые специализированным оборудованием автотранспортные средства аварийно-спасательных служб и полиции',\n",
              " 'Персональное электрическое средство передвижения малой мощности',\n",
              " 'Подвижной состав ж/д',\n",
              " 'Пожарные автомобили',\n",
              " 'Полуприцепы прочие',\n",
              " 'Полуприцепы-фургоны',\n",
              " 'Прицепы к легковым автомобилям',\n",
              " 'Прицепы прочие',\n",
              " 'Прицепы тракторные',\n",
              " 'Прочая спецтехника',\n",
              " 'Прочие',\n",
              " 'Прочие Типы ТС (без типа)',\n",
              " 'Прочие грузовые автомобили',\n",
              " 'Прочие легковые автомобили',\n",
              " 'Прочие одноэтажные',\n",
              " 'Прочие одноярусные',\n",
              " 'Прочие самоходные машины и механизмы',\n",
              " 'Рефрижераторы',\n",
              " 'С-класс (малый средний, компактный) до 4,3 м',\n",
              " 'Самосвалы',\n",
              " 'Самоходные машины и механизмы сельскохозяйственного назначения',\n",
              " 'Самоходные мотоблоки',\n",
              " 'Седельные тягачи',\n",
              " 'Снегоходы',\n",
              " 'Специализированная снегоуборочная техника',\n",
              " 'Специализированная техника МВД',\n",
              " 'Специализированная техника аварийно-спасательного назначения',\n",
              " 'Специализированная техника военного назначения',\n",
              " 'Спецтехника (без типа)',\n",
              " 'Спортивные (гоночные)',\n",
              " 'Тракторы',\n",
              " 'Трамваи',\n",
              " 'Транспортные средства для обслуживания нефтяных и  газовых скважин',\n",
              " 'Транспортные средства для перевозки денежной выручки и ценных грузов',\n",
              " 'Транспортные средства для перевозки детей',\n",
              " 'Транспортные средства для перевозки длинномерных грузов',\n",
              " 'Транспортные средства для перевозки нефтепродуктов',\n",
              " 'Транспортные средства для перевозки пищевых жидкостей',\n",
              " 'Транспортные средства для перевозки сжиженных углеводородных газов на давление до 1,8 Мпа',\n",
              " 'Транспортные средства оперативно-служебные для перевозки лиц, находящихся под стражей',\n",
              " 'Транспортные средства, оснащенные подъемниками с рабочими платформами',\n",
              " 'Трициклы',\n",
              " 'Троллейбусы',\n",
              " 'Тягачи',\n",
              " 'Фронтальные погрузчики',\n",
              " 'Фургоны',\n",
              " 'Цистерны',\n",
              " 'Шасси',\n",
              " 'Школьные автобусы',\n",
              " 'Экскаваторы',\n",
              " 'Электробусы']"
            ]
          },
          "metadata": {},
          "execution_count": 38
        }
      ]
    },
    {
      "cell_type": "markdown",
      "source": [
        "Ранее, в части 2 исследования, мы уже классифицировали легковые автомобили и автобусы:\n",
        "К личным автомобилям отнесем записи в столбце `category`, содержащие слова:\n",
        "- \"класс\", в том числе 'S-класс', несмотря на то, что эти автомашины далеко не всегда относятся к категории личных автомобилей. Заметим, что корректность отнесения конкретных марок автомобилей к тому или иному классу требует корректировки, если будет задача, связанная с , скажем, безопасностью автомобилей того или иного класса.\n",
        "- ‘легковы’ – сюда попадут 'Прочие легковые автомобили' и 'Легковые автомобили (без типа)' и 'Прицепы к легковым автомобилям'\n",
        "- 'спортивные'\n",
        "- 'минивэны'\n",
        "- 'автодома'\n",
        "\n",
        "К автобусам отнесем записи в столбце `category`, содержащие слова (части слов):\n",
        "- 'бусы' – сюда попадут Школьные автобусы, Автобусы (без типа), троллейбусы, Электробусы\n",
        "- ‘одно’ – сюда попадут одноярусные и одноэтажные автобусы\n",
        "- ‘двух’ – сюда попадут двухярусные и двухэтажные автобусы\n",
        "- 'трамваи'\n",
        "\n",
        "Сейчас создадим новые категории.\n",
        "\n",
        "К мототранспорту отнесем записи, в столбце `category`, содержащие слова (части слов):\n",
        "- мото\n",
        "- квадр\n",
        "- мопед\n",
        "- снего"
      ],
      "metadata": {
        "id": "v0xhPEE-Gyss"
      }
    },
    {
      "cell_type": "code",
      "execution_count": null,
      "metadata": {
        "id": "loALZ506ZLlf"
      },
      "outputs": [],
      "source": [
        "# понизим регистр\n",
        "data_vehicles.category = data_vehicles.category.str.lower()"
      ]
    },
    {
      "cell_type": "markdown",
      "metadata": {
        "id": "GSX5MHW4KaZp"
      },
      "source": [
        "Произведем категоризацию категорий транспорта.\n",
        "Распределим на автомобли, автобусы, мототранспорт и прочее"
      ]
    },
    {
      "cell_type": "code",
      "execution_count": null,
      "metadata": {
        "id": "XCy1KSY5oNnZ",
        "colab": {
          "base_uri": "https://localhost:8080/"
        },
        "outputId": "ffa5fd30-e8d2-4acc-8681-e0df3252fe36"
      },
      "outputs": [
        {
          "output_type": "stream",
          "name": "stdout",
          "text": [
            "['с-класс (малый средний, компактный) до 4,3 м', 'd-класс (средний) до 4,6 м', 'в-класс (малый) до 3,9 м', 'прочие легковые автомобили', 'е-класс (высший средний, бизнес-класс) до 4,9 м', 'спортивные (гоночные)', 'минивэны и универсалы повышенной вместимости', 'а-класс (особо малый) до 3,5 м', 'легковые автомобили (без типа)', 's-класс (высший, представительский класс) более 4,9 м', 'автодома', 'прицепы к легковым автомобилям']\n",
            "['прочие одноярусные', 'одноэтажные длиной от 8 до 12 м', 'одноэтажные длиной не более 5 м', 'школьные автобусы', 'одноэтажные длиной от 5 до 8 м', 'автобусы (без типа)', 'прочие одноэтажные', 'одноэтажные, сочлененные длиной более 12 м', 'трамваи', 'троллейбусы', 'двухярусные', 'двухэтажные', 'электробусы']\n",
            "['мотоциклы', 'мопеды с двигателем внутреннего сгорания менее 50 см. куб.', 'мопеды с двигателем внутреннего сгорания более 50 см. куб.', 'трициклы', 'квадроциклы', 'мотороллеры', 'иные мототранспортные средства', 'снегоходы', 'квадрициклы', 'мототранспорт (без типа)', 'мопеды с электродвигателем менее 4 квт', 'самоходные мотоблоки', 'мотовелосипеды', 'мотонарты, аэросани', 'мотоколяски']\n"
          ]
        }
      ],
      "source": [
        "# Создадим список категорий, которые мы отнесем к легковым автомобилям\n",
        "list_mobile = []\n",
        "list_bus = []\n",
        "list_moto = []\n",
        "list_truck = []\n",
        "list_bike = []\n",
        "for i in data_vehicles.category.unique().tolist():\n",
        "  for j in [\"класс\", 'легковы', 'спортивные', 'минивэны', 'автодома']:\n",
        "      if j in i:\n",
        "          list_mobile.append(i)\n",
        "  for k in [\"бусы\", 'одно', 'двух', 'трамваи']:\n",
        "      if k in i:\n",
        "          list_bus.append(i)\n",
        "  for l in [\"мото\", 'квадр', 'трицик', 'мопед', 'снегох']:\n",
        "      if l in i:\n",
        "          list_moto.append(i)\n",
        "  for m in ['тягач', 'фургон', 'грузовые', 'самосвал', 'бортов',\n",
        "            'рефриже', 'цистерны', 'длинномер','бетон','прицеп', 'кран', 'шасси']:\n",
        "      if m in i:\n",
        "          list_truck.append(i)\n",
        "  for n in [\"велос\"]:\n",
        "      if n in i:\n",
        "          list_bike.append(i)\n",
        "print(list_mobile)\n",
        "print(list_bus)\n",
        "print(list_moto)"
      ]
    },
    {
      "cell_type": "code",
      "execution_count": null,
      "metadata": {
        "id": "hxcd3JEV5kwZ"
      },
      "outputs": [],
      "source": [
        "# создадим словарь для категоризации категорий транспортных средств\n",
        "dict_type = {}\n",
        "for i in list_mobile:\n",
        "  dict_type[i] = 'mobile'\n",
        "for j in list_bus:\n",
        "  dict_type[j] = 'bus'\n",
        "for k in list_moto:\n",
        "  dict_type[k] = 'moto'\n",
        "for l in list_truck:\n",
        "  dict_type[l] = 'truck'\n",
        "for m in list_bike:\n",
        "  dict_type[m] = 'bike'"
      ]
    },
    {
      "cell_type": "code",
      "execution_count": null,
      "metadata": {
        "id": "JrDL7nZO6BMf",
        "colab": {
          "base_uri": "https://localhost:8080/"
        },
        "outputId": "537ccbf9-2703-403a-c324-4270bd2fb182"
      },
      "outputs": [
        {
          "output_type": "execute_result",
          "data": {
            "text/plain": [
              "{'с-класс (малый средний, компактный) до 4,3 м': 'mobile',\n",
              " 'd-класс (средний) до 4,6 м': 'mobile',\n",
              " 'в-класс (малый) до 3,9 м': 'mobile',\n",
              " 'прочие легковые автомобили': 'mobile',\n",
              " 'е-класс (высший средний, бизнес-класс) до 4,9 м': 'mobile',\n",
              " 'спортивные (гоночные)': 'mobile',\n",
              " 'минивэны и универсалы повышенной вместимости': 'mobile',\n",
              " 'а-класс (особо малый) до 3,5 м': 'mobile',\n",
              " 'легковые автомобили (без типа)': 'mobile',\n",
              " 's-класс (высший, представительский класс) более 4,9 м': 'mobile',\n",
              " 'автодома': 'mobile',\n",
              " 'прицепы к легковым автомобилям': 'truck',\n",
              " 'прочие одноярусные': 'bus',\n",
              " 'одноэтажные длиной от 8 до 12 м': 'bus',\n",
              " 'одноэтажные длиной не более 5 м': 'bus',\n",
              " 'школьные автобусы': 'bus',\n",
              " 'одноэтажные длиной от 5 до 8 м': 'bus',\n",
              " 'автобусы (без типа)': 'bus',\n",
              " 'прочие одноэтажные': 'bus',\n",
              " 'одноэтажные, сочлененные длиной более 12 м': 'bus',\n",
              " 'трамваи': 'bus',\n",
              " 'троллейбусы': 'bus',\n",
              " 'двухярусные': 'bus',\n",
              " 'двухэтажные': 'bus',\n",
              " 'электробусы': 'bus',\n",
              " 'мотоциклы': 'moto',\n",
              " 'мопеды с двигателем внутреннего сгорания менее 50 см. куб.': 'moto',\n",
              " 'мопеды с двигателем внутреннего сгорания более 50 см. куб.': 'moto',\n",
              " 'трициклы': 'moto',\n",
              " 'квадроциклы': 'moto',\n",
              " 'мотороллеры': 'moto',\n",
              " 'иные мототранспортные средства': 'moto',\n",
              " 'снегоходы': 'moto',\n",
              " 'квадрициклы': 'moto',\n",
              " 'мототранспорт (без типа)': 'moto',\n",
              " 'мопеды с электродвигателем менее 4 квт': 'moto',\n",
              " 'самоходные мотоблоки': 'moto',\n",
              " 'мотовелосипеды': 'bike',\n",
              " 'мотонарты, аэросани': 'moto',\n",
              " 'мотоколяски': 'moto',\n",
              " 'седельные тягачи': 'truck',\n",
              " 'бортовые грузовые автомобили': 'truck',\n",
              " 'фургоны': 'truck',\n",
              " 'самосвалы': 'truck',\n",
              " 'рефрижераторы': 'truck',\n",
              " 'прочие грузовые автомобили': 'truck',\n",
              " 'бортовые': 'truck',\n",
              " 'цистерны': 'truck',\n",
              " 'грузовые автомобили (без типа)': 'truck',\n",
              " 'карьерные самосвалы': 'truck',\n",
              " 'автокраны и транспортные средства, оснащенные кранами-манипуляторами': 'truck',\n",
              " 'шасси': 'truck',\n",
              " 'тягачи': 'truck',\n",
              " 'медицинские комплексы на шасси транспортных средств': 'truck',\n",
              " 'автобетоносмесители': 'truck',\n",
              " 'транспортные средства для перевозки длинномерных грузов': 'truck',\n",
              " 'полуприцепы-фургоны': 'truck',\n",
              " 'прицепы прочие': 'truck',\n",
              " 'прицепы тракторные': 'truck',\n",
              " 'автобетононасосы': 'truck',\n",
              " 'полуприцепы прочие': 'truck',\n",
              " 'велосипеды': 'bike'}"
            ]
          },
          "metadata": {},
          "execution_count": 42
        }
      ],
      "source": [
        "dict_type"
      ]
    },
    {
      "cell_type": "code",
      "execution_count": null,
      "metadata": {
        "id": "tEtoh2Ml35jh"
      },
      "outputs": [],
      "source": [
        "# Произведем категоризацию и в столбец type_vehicle укажем тип транспортного средства\n",
        "data_vehicles['type_vehicle'] = data_vehicles['category'].map(dict_type)\n",
        "# Поскольку нас интересуют только автомобили и автобусы, удалим пустые записи\n",
        "#mobile_bus = mobile_bus[mobile_bus.type_vehicle.notna()]"
      ]
    },
    {
      "cell_type": "code",
      "source": [
        "#data_vehicles['category'] = data_vehicles['category'].fillna(\"another\")\n",
        "data_vehicles['type_vehicle'] = data_vehicles['type_vehicle'].fillna(\"another\")"
      ],
      "metadata": {
        "id": "eScDsOHOPCZn"
      },
      "execution_count": null,
      "outputs": []
    },
    {
      "cell_type": "code",
      "source": [
        "#data_vehicles.loc[data_vehicles.type_vehicle.isna(), 'type_vehicle'] = \\\n",
        "#    data_vehicles.loc[data_vehicles.type_vehicle.isna(), 'category']"
      ],
      "metadata": {
        "id": "Jzof0DJqRYl4"
      },
      "execution_count": null,
      "outputs": []
    },
    {
      "cell_type": "code",
      "source": [
        "data_vehicles['type_vehicle'].unique()"
      ],
      "metadata": {
        "colab": {
          "base_uri": "https://localhost:8080/"
        },
        "id": "AK-BRHr1OcT8",
        "outputId": "2e4ee85c-fff7-4469-c84d-7d87d2425a7a"
      },
      "execution_count": null,
      "outputs": [
        {
          "output_type": "execute_result",
          "data": {
            "text/plain": [
              "array(['bus', 'mobile', 'truck', 'moto', 'bike', 'another'], dtype=object)"
            ]
          },
          "metadata": {},
          "execution_count": 46
        }
      ]
    },
    {
      "cell_type": "code",
      "source": [
        "# построим столбчатую диаграмму, чтобы определить значимые количества тех или иных значений\n",
        "categ_disp(data_vehicles, 'type_vehicle', 'Вид транспортного средства')"
      ],
      "metadata": {
        "colab": {
          "base_uri": "https://localhost:8080/",
          "height": 501
        },
        "id": "ydktfRmRRX3y",
        "outputId": "34159bea-8a4a-44dc-e06b-98f3978b4e15"
      },
      "execution_count": null,
      "outputs": [
        {
          "output_type": "display_data",
          "data": {
            "text/plain": [
              "<Figure size 700x500 with 1 Axes>"
            ],
            "image/png": "[encoded data removed]"
          },
          "metadata": {}
        }
      ]
    },
    {
      "cell_type": "markdown",
      "metadata": {
        "id": "4a4tyXJ687BA"
      },
      "source": [
        "Произведем категоризацию категорий происшествий.\n",
        "Распределим на:\n",
        "- Столкновения - сюда отнесем только столкновения\n",
        "- Наезды - сюда отнесем все наезды\n",
        "- Опрокидывание - только опрокидывания\n",
        "- Съезд с дороги - только съезды с дороги\n",
        "- Падение пассажира - только падение пассажира\n",
        "- Падение груза - сюда отнесем падение груза и отбрасывание\n",
        "- Иной вид ДТП - отнесем инлй вид ДТП и Возгорание\n"
      ]
    },
    {
      "cell_type": "code",
      "source": [
        "# заменим значения в столбце category на значения из type_vehicle\n",
        "# удамил столбец type_vehicle\n",
        "data_vehicles.category = data_vehicles.type_vehicle\n",
        "data_vehicles = data_vehicles.drop(columns='type_vehicle')"
      ],
      "metadata": {
        "id": "2e53yhJhc6xl"
      },
      "execution_count": null,
      "outputs": []
    },
    {
      "cell_type": "code",
      "source": [
        "# создадим переменную a1 - она не займет много места, но с ней будет удобнее написать код\n",
        "a2 = sorted(data_vehicles.category.unique().tolist())\n",
        "a2"
      ],
      "metadata": {
        "colab": {
          "base_uri": "https://localhost:8080/"
        },
        "outputId": "97c568e4-d2d6-4c50-bc96-ec380cd8169a",
        "id": "OjPs7Nso87BA"
      },
      "execution_count": null,
      "outputs": [
        {
          "output_type": "execute_result",
          "data": {
            "text/plain": [
              "['another', 'bike', 'bus', 'mobile', 'moto', 'truck']"
            ]
          },
          "metadata": {},
          "execution_count": 49
        }
      ]
    },
    {
      "cell_type": "code",
      "source": [
        "# Присвоим значениям в столбце category тип данных category\n",
        "data_vehicles['category'] = data_vehicles['category'].astype('category')"
      ],
      "metadata": {
        "id": "om9HCU1MfGjJ"
      },
      "execution_count": null,
      "outputs": []
    },
    {
      "cell_type": "code",
      "source": [
        "# построим столбчатую диаграмму, чтобы определить значимые количества тех или иных значений\n",
        "categ_disp(data_vehicles, 'year', 'Год выпуска транспортного средства')"
      ],
      "metadata": {
        "colab": {
          "base_uri": "https://localhost:8080/",
          "height": 501
        },
        "id": "cp0CvnBI5Uyn",
        "outputId": "3886563c-6528-4750-f848-5db2f30abc48"
      },
      "execution_count": null,
      "outputs": [
        {
          "output_type": "display_data",
          "data": {
            "text/plain": [
              "<Figure size 700x500 with 1 Axes>"
            ],
            "image/png": "[encoded data removed]"
          },
          "metadata": {}
        }
      ]
    },
    {
      "cell_type": "code",
      "source": [
        "data_vehicles.head()"
      ],
      "metadata": {
        "colab": {
          "base_uri": "https://localhost:8080/",
          "height": 206
        },
        "id": "hYjCmcuHfnNP",
        "outputId": "5d801f6f-d467-4347-8fbc-f35597a1e829"
      },
      "execution_count": null,
      "outputs": [
        {
          "output_type": "execute_result",
          "data": {
            "text/plain": [
              "        id  year         brand   color                     model category\n",
              "0  2525237  2018           ПАЗ   Белый                     32054      bus\n",
              "1  2060303  2003        TOYOTA  Черный                     Crown   mobile\n",
              "2  2624862  2003  FREIGHTLINER   Белый         Century Class S/T    truck\n",
              "3  2624862  2014    MITSUBISHI   Белый  Прочие модели Mitsubishi    truck\n",
              "4  2624870  2011        TOYOTA   Серый                   Corolla   mobile"
            ],
            "text/html": [
              "\n",
              "  <div id=\"df-ada6538c-7383-483c-adc6-433fb91d2c6a\" class=\"colab-df-container\">\n",
              "    <div>\n",
              "<style scoped>\n",
              "    .dataframe tbody tr th:only-of-type {\n",
              "        vertical-align: middle;\n",
              "    }\n",
              "\n",
              "    .dataframe tbody tr th {\n",
              "        vertical-align: top;\n",
              "    }\n",
              "\n",
              "    .dataframe thead th {\n",
              "        text-align: right;\n",
              "    }\n",
              "</style>\n",
              "<table border=\"1\" class=\"dataframe\">\n",
              "  <thead>\n",
              "    <tr style=\"text-align: right;\">\n",
              "      <th></th>\n",
              "      <th>id</th>\n",
              "      <th>year</th>\n",
              "      <th>brand</th>\n",
              "      <th>color</th>\n",
              "      <th>model</th>\n",
              "      <th>category</th>\n",
              "    </tr>\n",
              "  </thead>\n",
              "  <tbody>\n",
              "    <tr>\n",
              "      <th>0</th>\n",
              "      <td>2525237</td>\n",
              "      <td>2018</td>\n",
              "      <td>ПАЗ</td>\n",
              "      <td>Белый</td>\n",
              "      <td>32054</td>\n",
              "      <td>bus</td>\n",
              "    </tr>\n",
              "    <tr>\n",
              "      <th>1</th>\n",
              "      <td>2060303</td>\n",
              "      <td>2003</td>\n",
              "      <td>TOYOTA</td>\n",
              "      <td>Черный</td>\n",
              "      <td>Crown</td>\n",
              "      <td>mobile</td>\n",
              "    </tr>\n",
              "    <tr>\n",
              "      <th>2</th>\n",
              "      <td>2624862</td>\n",
              "      <td>2003</td>\n",
              "      <td>FREIGHTLINER</td>\n",
              "      <td>Белый</td>\n",
              "      <td>Century Class S/T</td>\n",
              "      <td>truck</td>\n",
              "    </tr>\n",
              "    <tr>\n",
              "      <th>3</th>\n",
              "      <td>2624862</td>\n",
              "      <td>2014</td>\n",
              "      <td>MITSUBISHI</td>\n",
              "      <td>Белый</td>\n",
              "      <td>Прочие модели Mitsubishi</td>\n",
              "      <td>truck</td>\n",
              "    </tr>\n",
              "    <tr>\n",
              "      <th>4</th>\n",
              "      <td>2624870</td>\n",
              "      <td>2011</td>\n",
              "      <td>TOYOTA</td>\n",
              "      <td>Серый</td>\n",
              "      <td>Corolla</td>\n",
              "      <td>mobile</td>\n",
              "    </tr>\n",
              "  </tbody>\n",
              "</table>\n",
              "</div>\n",
              "    <div class=\"colab-df-buttons\">\n",
              "\n",
              "  <div class=\"colab-df-container\">\n",
              "    <button class=\"colab-df-convert\" onclick=\"convertToInteractive('df-ada6538c-7383-483c-adc6-433fb91d2c6a')\"\n",
              "            title=\"Convert this dataframe to an interactive table.\"\n",
              "            style=\"display:none;\">\n",
              "\n",
              "  <svg xmlns=\"http://www.w3.org/2000/svg\" height=\"24px\" viewBox=\"0 -960 960 960\">\n",
              "    <path d=\"M120-120v-720h720v720H120Zm60-500h600v-160H180v160Zm220 220h160v-160H400v160Zm0 220h160v-160H400v160ZM180-400h160v-160H180v160Zm440 0h160v-160H620v160ZM180-180h160v-160H180v160Zm440 0h160v-160H620v160Z\"/>\n",
              "  </svg>\n",
              "    </button>\n",
              "\n",
              "  <style>\n",
              "    .colab-df-container {\n",
              "      display:flex;\n",
              "      gap: 12px;\n",
              "    }\n",
              "\n",
              "    .colab-df-convert {\n",
              "      background-color: #E8F0FE;\n",
              "      border: none;\n",
              "      border-radius: 50%;\n",
              "      cursor: pointer;\n",
              "      display: none;\n",
              "      fill: #1967D2;\n",
              "      height: 32px;\n",
              "      padding: 0 0 0 0;\n",
              "      width: 32px;\n",
              "    }\n",
              "\n",
              "    .colab-df-convert:hover {\n",
              "      background-color: #E2EBFA;\n",
              "      box-shadow: 0px 1px 2px rgba(60, 64, 67, 0.3), 0px 1px 3px 1px rgba(60, 64, 67, 0.15);\n",
              "      fill: #174EA6;\n",
              "    }\n",
              "\n",
              "    .colab-df-buttons div {\n",
              "      margin-bottom: 4px;\n",
              "    }\n",
              "\n",
              "    [theme=dark] .colab-df-convert {\n",
              "      background-color: #3B4455;\n",
              "      fill: #D2E3FC;\n",
              "    }\n",
              "\n",
              "    [theme=dark] .colab-df-convert:hover {\n",
              "      background-color: #434B5C;\n",
              "      box-shadow: 0px 1px 3px 1px rgba(0, 0, 0, 0.15);\n",
              "      filter: drop-shadow(0px 1px 2px rgba(0, 0, 0, 0.3));\n",
              "      fill: #FFFFFF;\n",
              "    }\n",
              "  </style>\n",
              "\n",
              "    <script>\n",
              "      const buttonEl =\n",
              "        document.querySelector('#df-ada6538c-7383-483c-adc6-433fb91d2c6a button.colab-df-convert');\n",
              "      buttonEl.style.display =\n",
              "        google.colab.kernel.accessAllowed ? 'block' : 'none';\n",
              "\n",
              "      async function convertToInteractive(key) {\n",
              "        const element = document.querySelector('#df-ada6538c-7383-483c-adc6-433fb91d2c6a');\n",
              "        const dataTable =\n",
              "          await google.colab.kernel.invokeFunction('convertToInteractive',\n",
              "                                                    [key], {});\n",
              "        if (!dataTable) return;\n",
              "\n",
              "        const docLinkHtml = 'Like what you see? Visit the ' +\n",
              "          '<a target=\"_blank\" href=https://colab.research.google.com/notebooks/data_table.ipynb>data table notebook</a>'\n",
              "          + ' to learn more about interactive tables.';\n",
              "        element.innerHTML = '';\n",
              "        dataTable['output_type'] = 'display_data';\n",
              "        await google.colab.output.renderOutput(dataTable, element);\n",
              "        const docLink = document.createElement('div');\n",
              "        docLink.innerHTML = docLinkHtml;\n",
              "        element.appendChild(docLink);\n",
              "      }\n",
              "    </script>\n",
              "  </div>\n",
              "\n",
              "\n",
              "<div id=\"df-bdc7f96a-18bb-4e29-832c-7e5b674bbf5e\">\n",
              "  <button class=\"colab-df-quickchart\" onclick=\"quickchart('df-bdc7f96a-18bb-4e29-832c-7e5b674bbf5e')\"\n",
              "            title=\"Suggest charts\"\n",
              "            style=\"display:none;\">\n",
              "\n",
              "<svg xmlns=\"http://www.w3.org/2000/svg\" height=\"24px\"viewBox=\"0 0 24 24\"\n",
              "     width=\"24px\">\n",
              "    <g>\n",
              "        <path d=\"M19 3H5c-1.1 0-2 .9-2 2v14c0 1.1.9 2 2 2h14c1.1 0 2-.9 2-2V5c0-1.1-.9-2-2-2zM9 17H7v-7h2v7zm4 0h-2V7h2v10zm4 0h-2v-4h2v4z\"/>\n",
              "    </g>\n",
              "</svg>\n",
              "  </button>\n",
              "\n",
              "<style>\n",
              "  .colab-df-quickchart {\n",
              "      --bg-color: #E8F0FE;\n",
              "      --fill-color: #1967D2;\n",
              "      --hover-bg-color: #E2EBFA;\n",
              "      --hover-fill-color: #174EA6;\n",
              "      --disabled-fill-color: #AAA;\n",
              "      --disabled-bg-color: #DDD;\n",
              "  }\n",
              "\n",
              "  [theme=dark] .colab-df-quickchart {\n",
              "      --bg-color: #3B4455;\n",
              "      --fill-color: #D2E3FC;\n",
              "      --hover-bg-color: #434B5C;\n",
              "      --hover-fill-color: #FFFFFF;\n",
              "      --disabled-bg-color: #3B4455;\n",
              "      --disabled-fill-color: #666;\n",
              "  }\n",
              "\n",
              "  .colab-df-quickchart {\n",
              "    background-color: var(--bg-color);\n",
              "    border: none;\n",
              "    border-radius: 50%;\n",
              "    cursor: pointer;\n",
              "    display: none;\n",
              "    fill: var(--fill-color);\n",
              "    height: 32px;\n",
              "    padding: 0;\n",
              "    width: 32px;\n",
              "  }\n",
              "\n",
              "  .colab-df-quickchart:hover {\n",
              "    background-color: var(--hover-bg-color);\n",
              "    box-shadow: 0 1px 2px rgba(60, 64, 67, 0.3), 0 1px 3px 1px rgba(60, 64, 67, 0.15);\n",
              "    fill: var(--button-hover-fill-color);\n",
              "  }\n",
              "\n",
              "  .colab-df-quickchart-complete:disabled,\n",
              "  .colab-df-quickchart-complete:disabled:hover {\n",
              "    background-color: var(--disabled-bg-color);\n",
              "    fill: var(--disabled-fill-color);\n",
              "    box-shadow: none;\n",
              "  }\n",
              "\n",
              "  .colab-df-spinner {\n",
              "    border: 2px solid var(--fill-color);\n",
              "    border-color: transparent;\n",
              "    border-bottom-color: var(--fill-color);\n",
              "    animation:\n",
              "      spin 1s steps(1) infinite;\n",
              "  }\n",
              "\n",
              "  @keyframes spin {\n",
              "    0% {\n",
              "      border-color: transparent;\n",
              "      border-bottom-color: var(--fill-color);\n",
              "      border-left-color: var(--fill-color);\n",
              "    }\n",
              "    20% {\n",
              "      border-color: transparent;\n",
              "      border-left-color: var(--fill-color);\n",
              "      border-top-color: var(--fill-color);\n",
              "    }\n",
              "    30% {\n",
              "      border-color: transparent;\n",
              "      border-left-color: var(--fill-color);\n",
              "      border-top-color: var(--fill-color);\n",
              "      border-right-color: var(--fill-color);\n",
              "    }\n",
              "    40% {\n",
              "      border-color: transparent;\n",
              "      border-right-color: var(--fill-color);\n",
              "      border-top-color: var(--fill-color);\n",
              "    }\n",
              "    60% {\n",
              "      border-color: transparent;\n",
              "      border-right-color: var(--fill-color);\n",
              "    }\n",
              "    80% {\n",
              "      border-color: transparent;\n",
              "      border-right-color: var(--fill-color);\n",
              "      border-bottom-color: var(--fill-color);\n",
              "    }\n",
              "    90% {\n",
              "      border-color: transparent;\n",
              "      border-bottom-color: var(--fill-color);\n",
              "    }\n",
              "  }\n",
              "</style>\n",
              "\n",
              "  <script>\n",
              "    async function quickchart(key) {\n",
              "      const quickchartButtonEl =\n",
              "        document.querySelector('#' + key + ' button');\n",
              "      quickchartButtonEl.disabled = true;  // To prevent multiple clicks.\n",
              "      quickchartButtonEl.classList.add('colab-df-spinner');\n",
              "      try {\n",
              "        const charts = await google.colab.kernel.invokeFunction(\n",
              "            'suggestCharts', [key], {});\n",
              "      } catch (error) {\n",
              "        console.error('Error during call to suggestCharts:', error);\n",
              "      }\n",
              "      quickchartButtonEl.classList.remove('colab-df-spinner');\n",
              "      quickchartButtonEl.classList.add('colab-df-quickchart-complete');\n",
              "    }\n",
              "    (() => {\n",
              "      let quickchartButtonEl =\n",
              "        document.querySelector('#df-bdc7f96a-18bb-4e29-832c-7e5b674bbf5e button');\n",
              "      quickchartButtonEl.style.display =\n",
              "        google.colab.kernel.accessAllowed ? 'block' : 'none';\n",
              "    })();\n",
              "  </script>\n",
              "</div>\n",
              "    </div>\n",
              "  </div>\n"
            ],
            "application/vnd.google.colaboratory.intrinsic+json": {
              "type": "dataframe",
              "variable_name": "data_vehicles"
            }
          },
          "metadata": {},
          "execution_count": 52
        }
      ]
    },
    {
      "cell_type": "code",
      "source": [
        "data_vehicles.info()"
      ],
      "metadata": {
        "colab": {
          "base_uri": "https://localhost:8080/"
        },
        "outputId": "35970189-f918-45e8-d6de-751a6384c5b3",
        "id": "LChoJb3g87BI"
      },
      "execution_count": null,
      "outputs": [
        {
          "output_type": "stream",
          "name": "stdout",
          "text": [
            "<class 'pandas.core.frame.DataFrame'>\n",
            "RangeIndex: 2240533 entries, 0 to 2240532\n",
            "Data columns (total 6 columns):\n",
            " #   Column    Dtype   \n",
            "---  ------    -----   \n",
            " 0   id        int32   \n",
            " 1   year      object  \n",
            " 2   brand     category\n",
            " 3   color     category\n",
            " 4   model     category\n",
            " 5   category  category\n",
            "dtypes: category(4), int32(1), object(1)\n",
            "memory usage: 38.5+ MB\n"
          ]
        }
      ]
    },
    {
      "cell_type": "markdown",
      "source": [
        "Сохраним датафрейм на диск в формате .csv.   \n",
        "После чего обратимся к DataLens  и построим дашборд со следующими чартами:\n",
        "- количество ДТП:\n",
        " - по годам выпуска автомобилей\n",
        " - по категориям\n",
        " - по цвету автомобиля\n",
        "\n",
        " Соединим с файлом data_foot_part и рассмотрим указанные выше категории в разрезе\n",
        " - количества ДТП\n",
        " - участников ДТП\n",
        " - раненых и травмированных\n",
        " - погибших\n",
        " - доля погибщих к количеству участников ДТП\n",
        " - доля пострадавших к количеству участников ДТП\n",
        "\n",
        "\n",
        "\n",
        "  Соединим с файлом data_base и рассмотрим указанные выше категории в разрезе\n",
        " - категории освещенности\n",
        " - погоды\n",
        " - категории ДТП - столкновение, наезд\n",
        "\n",
        "\n",
        "\n",
        "Установим фильтры:\n",
        "- количество погибших\n",
        "- количество пострадавших\n",
        "- год\n",
        "- месяц\n",
        "- время суток\n",
        "- регион\n",
        "- Днем/ночью/ освещение\n",
        "\n",
        "\n",
        "- пьяный/трезвый\n",
        "- умерли в течение какого периода после ДТП\n",
        "- С пешеходами и без пешеходов\n",
        "- В зависимости от цвета ТС\n",
        "- В зависимости от местонахождения – nearby или в/за городом\n",
        "- В зависимости от состояния дороги road_conditions\n",
        "- От вида ТС\n",
        "\n",
        "**Но нам нужны удельные показатели**\n",
        "\n",
        "\n"
      ],
      "metadata": {
        "id": "YwwD2Hju87BI"
      }
    },
    {
      "cell_type": "code",
      "source": [
        "# Поскольку выгружаемый файл csv займет на ддиске более 200 МВ, нам придется разделить его на две части и вырузить по частям\n",
        "# Выведем столбцы\n",
        "data_vehicles.columns"
      ],
      "metadata": {
        "colab": {
          "base_uri": "https://localhost:8080/"
        },
        "outputId": "11e3eb6f-af47-4307-f355-66252d7f3d0f",
        "id": "j5BZTOU387BJ"
      },
      "execution_count": null,
      "outputs": [
        {
          "output_type": "execute_result",
          "data": {
            "text/plain": [
              "Index(['id', 'year', 'brand', 'color', 'model', 'category'], dtype='object')"
            ]
          },
          "metadata": {},
          "execution_count": 54
        }
      ]
    },
    {
      "cell_type": "code",
      "source": [
        "# Сохраним обе части на диск в формате .csv\n",
        "data_vehicles.to_csv(r'/content/drive/MyDrive/Мастерская_Аналитика_ДТП/data_vehicles.csv', sep=',')"
      ],
      "metadata": {
        "id": "R19FAwo887BK"
      },
      "execution_count": null,
      "outputs": []
    },
    {
      "cell_type": "code",
      "source": [
        "'''# Разделим  data_vehicles на две части\n",
        "data_vehicles_part_1 = data_vehicles[data_vehicles.columns[:4]]\n",
        "data_vehicles_part_2 = data_vehicles[['id'] + data_vehicles.columns[4:].tolist() ]\n",
        "print(f'data_vehicles_part_1\\n {data_vehicles_part_1.head(2)} \\n\\n data_vehicles_part_2 \\n{data_vehicles_part_2.head(2)}')\n",
        "'''"
      ],
      "metadata": {
        "colab": {
          "base_uri": "https://localhost:8080/",
          "height": 53
        },
        "id": "-zECL3kB87BJ",
        "outputId": "0f937485-7fb5-4997-bb20-8cf7bbfdc5dc"
      },
      "execution_count": null,
      "outputs": [
        {
          "output_type": "execute_result",
          "data": {
            "text/plain": [
              "\"# Разделим  data_vehicles на две части\\ndata_vehicles_part_1 = data_vehicles[data_vehicles.columns[:4]]\\ndata_vehicles_part_2 = data_vehicles[['id'] + data_vehicles.columns[4:].tolist() ]\\nprint(f'data_vehicles_part_1\\n {data_vehicles_part_1.head(2)} \\n\\n data_vehicles_part_2 \\n{data_vehicles_part_2.head(2)}')\\n\""
            ],
            "application/vnd.google.colaboratory.intrinsic+json": {
              "type": "string"
            }
          },
          "metadata": {},
          "execution_count": 56
        }
      ]
    },
    {
      "cell_type": "code",
      "source": [
        "'''# Сохраним обе части на диск в формате .csv\n",
        "data_vehicles_part_1.to_csv(r'/content/drive/MyDrive/Мастерская_Аналитика_ДТП/data_vehicles_part_1.csv', sep=',')\n",
        "data_vehicles_part_2.to_csv(r'/content/drive/MyDrive/Мастерская_Аналитика_ДТП/data_vehicles_part_2.csv', sep=',')\n",
        "'''"
      ],
      "metadata": {
        "id": "rQjPcRD687BK",
        "colab": {
          "base_uri": "https://localhost:8080/",
          "height": 53
        },
        "outputId": "0cf2476c-83ad-4254-8a8e-a34ad91ce3e7"
      },
      "execution_count": null,
      "outputs": [
        {
          "output_type": "execute_result",
          "data": {
            "text/plain": [
              "\"# Сохраним обе части на диск в формате .csv\\ndata_vehicles_part_1.to_csv(r'/content/drive/MyDrive/Мастерская_Аналитика_ДТП/data_vehicles_part_1.csv', sep=',')\\ndata_vehicles_part_2.to_csv(r'/content/drive/MyDrive/Мастерская_Аналитика_ДТП/data_vehicles_part_2.csv', sep=',')\\n\""
            ],
            "application/vnd.google.colaboratory.intrinsic+json": {
              "type": "string"
            }
          },
          "metadata": {},
          "execution_count": 57
        }
      ]
    },
    {
      "cell_type": "markdown",
      "source": [],
      "metadata": {
        "id": "XR532STq87BL"
      }
    },
    {
      "cell_type": "code",
      "source": [
        "del data_vehicles"
      ],
      "metadata": {
        "id": "wBZRu_Bh87BL"
      },
      "execution_count": null,
      "outputs": []
    },
    {
      "cell_type": "markdown",
      "source": [],
      "metadata": {
        "id": "WuhwYYtJjfXn"
      }
    },
    {
      "cell_type": "code",
      "source": [],
      "metadata": {
        "id": "X66ZX8cOjjX8"
      },
      "execution_count": null,
      "outputs": []
    },
    {
      "cell_type": "markdown",
      "source": [
        "# Загрузим и подготовим третий файл - data_foot_part - с  данными о водителях, пассажирах, пешеходах."
      ],
      "metadata": {
        "id": "5JFHxOrmjkZq"
      }
    },
    {
      "cell_type": "code",
      "execution_count": null,
      "metadata": {
        "colab": {
          "base_uri": "https://localhost:8080/",
          "height": 224
        },
        "outputId": "3488a073-17ab-4a8d-c4fd-42a91f5eab33",
        "id": "0eNNME83jkZr"
      },
      "outputs": [
        {
          "output_type": "stream",
          "name": "stdout",
          "text": [
            "data_foot_part.pickle\n"
          ]
        },
        {
          "output_type": "display_data",
          "data": {
            "text/plain": [
              "        id      role        gender  \\\n",
              "0  2525237  Водитель       Мужской   \n",
              "1  2060303  Пассажир       Женский   \n",
              "2  2060303  Пассажир  Не заполнено   \n",
              "3  2060303  Пассажир       Мужской   \n",
              "4  2060303  Водитель       Мужской   \n",
              "\n",
              "                                          violations  \\\n",
              "0                                                 []   \n",
              "1                                                 []   \n",
              "2                                                 []   \n",
              "3                                                 []   \n",
              "4  [Нарушение правил расположения ТС на проезжей ...   \n",
              "\n",
              "                                       health_status  \\\n",
              "0                                       Не пострадал   \n",
              "1                                       Не пострадал   \n",
              "2  Скончался на месте ДТП до приезда скорой медиц...   \n",
              "3                                       Не пострадал   \n",
              "4                                       Не пострадал   \n",
              "\n",
              "  years_of_driving_experience  \n",
              "0                        35.0  \n",
              "1                Не заполнено  \n",
              "2                Не заполнено  \n",
              "3                Не заполнено  \n",
              "4                         9.0  "
            ],
            "text/html": [
              "\n",
              "  <div id=\"df-3b0d2eae-58f8-4174-a582-e7ac8cabb332\" class=\"colab-df-container\">\n",
              "    <div>\n",
              "<style scoped>\n",
              "    .dataframe tbody tr th:only-of-type {\n",
              "        vertical-align: middle;\n",
              "    }\n",
              "\n",
              "    .dataframe tbody tr th {\n",
              "        vertical-align: top;\n",
              "    }\n",
              "\n",
              "    .dataframe thead th {\n",
              "        text-align: right;\n",
              "    }\n",
              "</style>\n",
              "<table border=\"1\" class=\"dataframe\">\n",
              "  <thead>\n",
              "    <tr style=\"text-align: right;\">\n",
              "      <th></th>\n",
              "      <th>id</th>\n",
              "      <th>role</th>\n",
              "      <th>gender</th>\n",
              "      <th>violations</th>\n",
              "      <th>health_status</th>\n",
              "      <th>years_of_driving_experience</th>\n",
              "    </tr>\n",
              "  </thead>\n",
              "  <tbody>\n",
              "    <tr>\n",
              "      <th>0</th>\n",
              "      <td>2525237</td>\n",
              "      <td>Водитель</td>\n",
              "      <td>Мужской</td>\n",
              "      <td>[]</td>\n",
              "      <td>Не пострадал</td>\n",
              "      <td>35.0</td>\n",
              "    </tr>\n",
              "    <tr>\n",
              "      <th>1</th>\n",
              "      <td>2060303</td>\n",
              "      <td>Пассажир</td>\n",
              "      <td>Женский</td>\n",
              "      <td>[]</td>\n",
              "      <td>Не пострадал</td>\n",
              "      <td>Не заполнено</td>\n",
              "    </tr>\n",
              "    <tr>\n",
              "      <th>2</th>\n",
              "      <td>2060303</td>\n",
              "      <td>Пассажир</td>\n",
              "      <td>Не заполнено</td>\n",
              "      <td>[]</td>\n",
              "      <td>Скончался на месте ДТП до приезда скорой медиц...</td>\n",
              "      <td>Не заполнено</td>\n",
              "    </tr>\n",
              "    <tr>\n",
              "      <th>3</th>\n",
              "      <td>2060303</td>\n",
              "      <td>Пассажир</td>\n",
              "      <td>Мужской</td>\n",
              "      <td>[]</td>\n",
              "      <td>Не пострадал</td>\n",
              "      <td>Не заполнено</td>\n",
              "    </tr>\n",
              "    <tr>\n",
              "      <th>4</th>\n",
              "      <td>2060303</td>\n",
              "      <td>Водитель</td>\n",
              "      <td>Мужской</td>\n",
              "      <td>[Нарушение правил расположения ТС на проезжей ...</td>\n",
              "      <td>Не пострадал</td>\n",
              "      <td>9.0</td>\n",
              "    </tr>\n",
              "  </tbody>\n",
              "</table>\n",
              "</div>\n",
              "    <div class=\"colab-df-buttons\">\n",
              "\n",
              "  <div class=\"colab-df-container\">\n",
              "    <button class=\"colab-df-convert\" onclick=\"convertToInteractive('df-3b0d2eae-58f8-4174-a582-e7ac8cabb332')\"\n",
              "            title=\"Convert this dataframe to an interactive table.\"\n",
              "            style=\"display:none;\">\n",
              "\n",
              "  <svg xmlns=\"http://www.w3.org/2000/svg\" height=\"24px\" viewBox=\"0 -960 960 960\">\n",
              "    <path d=\"M120-120v-720h720v720H120Zm60-500h600v-160H180v160Zm220 220h160v-160H400v160Zm0 220h160v-160H400v160ZM180-400h160v-160H180v160Zm440 0h160v-160H620v160ZM180-180h160v-160H180v160Zm440 0h160v-160H620v160Z\"/>\n",
              "  </svg>\n",
              "    </button>\n",
              "\n",
              "  <style>\n",
              "    .colab-df-container {\n",
              "      display:flex;\n",
              "      gap: 12px;\n",
              "    }\n",
              "\n",
              "    .colab-df-convert {\n",
              "      background-color: #E8F0FE;\n",
              "      border: none;\n",
              "      border-radius: 50%;\n",
              "      cursor: pointer;\n",
              "      display: none;\n",
              "      fill: #1967D2;\n",
              "      height: 32px;\n",
              "      padding: 0 0 0 0;\n",
              "      width: 32px;\n",
              "    }\n",
              "\n",
              "    .colab-df-convert:hover {\n",
              "      background-color: #E2EBFA;\n",
              "      box-shadow: 0px 1px 2px rgba(60, 64, 67, 0.3), 0px 1px 3px 1px rgba(60, 64, 67, 0.15);\n",
              "      fill: #174EA6;\n",
              "    }\n",
              "\n",
              "    .colab-df-buttons div {\n",
              "      margin-bottom: 4px;\n",
              "    }\n",
              "\n",
              "    [theme=dark] .colab-df-convert {\n",
              "      background-color: #3B4455;\n",
              "      fill: #D2E3FC;\n",
              "    }\n",
              "\n",
              "    [theme=dark] .colab-df-convert:hover {\n",
              "      background-color: #434B5C;\n",
              "      box-shadow: 0px 1px 3px 1px rgba(0, 0, 0, 0.15);\n",
              "      filter: drop-shadow(0px 1px 2px rgba(0, 0, 0, 0.3));\n",
              "      fill: #FFFFFF;\n",
              "    }\n",
              "  </style>\n",
              "\n",
              "    <script>\n",
              "      const buttonEl =\n",
              "        document.querySelector('#df-3b0d2eae-58f8-4174-a582-e7ac8cabb332 button.colab-df-convert');\n",
              "      buttonEl.style.display =\n",
              "        google.colab.kernel.accessAllowed ? 'block' : 'none';\n",
              "\n",
              "      async function convertToInteractive(key) {\n",
              "        const element = document.querySelector('#df-3b0d2eae-58f8-4174-a582-e7ac8cabb332');\n",
              "        const dataTable =\n",
              "          await google.colab.kernel.invokeFunction('convertToInteractive',\n",
              "                                                    [key], {});\n",
              "        if (!dataTable) return;\n",
              "\n",
              "        const docLinkHtml = 'Like what you see? Visit the ' +\n",
              "          '<a target=\"_blank\" href=https://colab.research.google.com/notebooks/data_table.ipynb>data table notebook</a>'\n",
              "          + ' to learn more about interactive tables.';\n",
              "        element.innerHTML = '';\n",
              "        dataTable['output_type'] = 'display_data';\n",
              "        await google.colab.output.renderOutput(dataTable, element);\n",
              "        const docLink = document.createElement('div');\n",
              "        docLink.innerHTML = docLinkHtml;\n",
              "        element.appendChild(docLink);\n",
              "      }\n",
              "    </script>\n",
              "  </div>\n",
              "\n",
              "\n",
              "<div id=\"df-258a68e3-b5c9-4dea-b6b0-5b4312cb1ed0\">\n",
              "  <button class=\"colab-df-quickchart\" onclick=\"quickchart('df-258a68e3-b5c9-4dea-b6b0-5b4312cb1ed0')\"\n",
              "            title=\"Suggest charts\"\n",
              "            style=\"display:none;\">\n",
              "\n",
              "<svg xmlns=\"http://www.w3.org/2000/svg\" height=\"24px\"viewBox=\"0 0 24 24\"\n",
              "     width=\"24px\">\n",
              "    <g>\n",
              "        <path d=\"M19 3H5c-1.1 0-2 .9-2 2v14c0 1.1.9 2 2 2h14c1.1 0 2-.9 2-2V5c0-1.1-.9-2-2-2zM9 17H7v-7h2v7zm4 0h-2V7h2v10zm4 0h-2v-4h2v4z\"/>\n",
              "    </g>\n",
              "</svg>\n",
              "  </button>\n",
              "\n",
              "<style>\n",
              "  .colab-df-quickchart {\n",
              "      --bg-color: #E8F0FE;\n",
              "      --fill-color: #1967D2;\n",
              "      --hover-bg-color: #E2EBFA;\n",
              "      --hover-fill-color: #174EA6;\n",
              "      --disabled-fill-color: #AAA;\n",
              "      --disabled-bg-color: #DDD;\n",
              "  }\n",
              "\n",
              "  [theme=dark] .colab-df-quickchart {\n",
              "      --bg-color: #3B4455;\n",
              "      --fill-color: #D2E3FC;\n",
              "      --hover-bg-color: #434B5C;\n",
              "      --hover-fill-color: #FFFFFF;\n",
              "      --disabled-bg-color: #3B4455;\n",
              "      --disabled-fill-color: #666;\n",
              "  }\n",
              "\n",
              "  .colab-df-quickchart {\n",
              "    background-color: var(--bg-color);\n",
              "    border: none;\n",
              "    border-radius: 50%;\n",
              "    cursor: pointer;\n",
              "    display: none;\n",
              "    fill: var(--fill-color);\n",
              "    height: 32px;\n",
              "    padding: 0;\n",
              "    width: 32px;\n",
              "  }\n",
              "\n",
              "  .colab-df-quickchart:hover {\n",
              "    background-color: var(--hover-bg-color);\n",
              "    box-shadow: 0 1px 2px rgba(60, 64, 67, 0.3), 0 1px 3px 1px rgba(60, 64, 67, 0.15);\n",
              "    fill: var(--button-hover-fill-color);\n",
              "  }\n",
              "\n",
              "  .colab-df-quickchart-complete:disabled,\n",
              "  .colab-df-quickchart-complete:disabled:hover {\n",
              "    background-color: var(--disabled-bg-color);\n",
              "    fill: var(--disabled-fill-color);\n",
              "    box-shadow: none;\n",
              "  }\n",
              "\n",
              "  .colab-df-spinner {\n",
              "    border: 2px solid var(--fill-color);\n",
              "    border-color: transparent;\n",
              "    border-bottom-color: var(--fill-color);\n",
              "    animation:\n",
              "      spin 1s steps(1) infinite;\n",
              "  }\n",
              "\n",
              "  @keyframes spin {\n",
              "    0% {\n",
              "      border-color: transparent;\n",
              "      border-bottom-color: var(--fill-color);\n",
              "      border-left-color: var(--fill-color);\n",
              "    }\n",
              "    20% {\n",
              "      border-color: transparent;\n",
              "      border-left-color: var(--fill-color);\n",
              "      border-top-color: var(--fill-color);\n",
              "    }\n",
              "    30% {\n",
              "      border-color: transparent;\n",
              "      border-left-color: var(--fill-color);\n",
              "      border-top-color: var(--fill-color);\n",
              "      border-right-color: var(--fill-color);\n",
              "    }\n",
              "    40% {\n",
              "      border-color: transparent;\n",
              "      border-right-color: var(--fill-color);\n",
              "      border-top-color: var(--fill-color);\n",
              "    }\n",
              "    60% {\n",
              "      border-color: transparent;\n",
              "      border-right-color: var(--fill-color);\n",
              "    }\n",
              "    80% {\n",
              "      border-color: transparent;\n",
              "      border-right-color: var(--fill-color);\n",
              "      border-bottom-color: var(--fill-color);\n",
              "    }\n",
              "    90% {\n",
              "      border-color: transparent;\n",
              "      border-bottom-color: var(--fill-color);\n",
              "    }\n",
              "  }\n",
              "</style>\n",
              "\n",
              "  <script>\n",
              "    async function quickchart(key) {\n",
              "      const quickchartButtonEl =\n",
              "        document.querySelector('#' + key + ' button');\n",
              "      quickchartButtonEl.disabled = true;  // To prevent multiple clicks.\n",
              "      quickchartButtonEl.classList.add('colab-df-spinner');\n",
              "      try {\n",
              "        const charts = await google.colab.kernel.invokeFunction(\n",
              "            'suggestCharts', [key], {});\n",
              "      } catch (error) {\n",
              "        console.error('Error during call to suggestCharts:', error);\n",
              "      }\n",
              "      quickchartButtonEl.classList.remove('colab-df-spinner');\n",
              "      quickchartButtonEl.classList.add('colab-df-quickchart-complete');\n",
              "    }\n",
              "    (() => {\n",
              "      let quickchartButtonEl =\n",
              "        document.querySelector('#df-258a68e3-b5c9-4dea-b6b0-5b4312cb1ed0 button');\n",
              "      quickchartButtonEl.style.display =\n",
              "        google.colab.kernel.accessAllowed ? 'block' : 'none';\n",
              "    })();\n",
              "  </script>\n",
              "</div>\n",
              "    </div>\n",
              "  </div>\n"
            ],
            "application/vnd.google.colaboratory.intrinsic+json": {
              "type": "dataframe",
              "summary": "{\n  \"name\": \"      display(data_foot_part\",\n  \"rows\": 5,\n  \"fields\": [\n    {\n      \"column\": \"id\",\n      \"properties\": {\n        \"dtype\": \"int32\",\n        \"num_unique_values\": 2,\n        \"samples\": [\n          2060303,\n          2525237\n        ],\n        \"semantic_type\": \"\",\n        \"description\": \"\"\n      }\n    },\n    {\n      \"column\": \"role\",\n      \"properties\": {\n        \"dtype\": \"category\",\n        \"num_unique_values\": 2,\n        \"samples\": [\n          \"\\u041f\\u0430\\u0441\\u0441\\u0430\\u0436\\u0438\\u0440\",\n          \"\\u0412\\u043e\\u0434\\u0438\\u0442\\u0435\\u043b\\u044c\"\n        ],\n        \"semantic_type\": \"\",\n        \"description\": \"\"\n      }\n    },\n    {\n      \"column\": \"gender\",\n      \"properties\": {\n        \"dtype\": \"category\",\n        \"num_unique_values\": 3,\n        \"samples\": [\n          \"\\u041c\\u0443\\u0436\\u0441\\u043a\\u043e\\u0439\",\n          \"\\u0416\\u0435\\u043d\\u0441\\u043a\\u0438\\u0439\"\n        ],\n        \"semantic_type\": \"\",\n        \"description\": \"\"\n      }\n    },\n    {\n      \"column\": \"violations\",\n      \"properties\": {\n        \"dtype\": \"object\",\n        \"semantic_type\": \"\",\n        \"description\": \"\"\n      }\n    },\n    {\n      \"column\": \"health_status\",\n      \"properties\": {\n        \"dtype\": \"category\",\n        \"num_unique_values\": 2,\n        \"samples\": [\n          \"\\u0421\\u043a\\u043e\\u043d\\u0447\\u0430\\u043b\\u0441\\u044f \\u043d\\u0430 \\u043c\\u0435\\u0441\\u0442\\u0435 \\u0414\\u0422\\u041f \\u0434\\u043e \\u043f\\u0440\\u0438\\u0435\\u0437\\u0434\\u0430 \\u0441\\u043a\\u043e\\u0440\\u043e\\u0439 \\u043c\\u0435\\u0434\\u0438\\u0446\\u0438\\u043d\\u0441\\u043a\\u043e\\u0439 \\u043f\\u043e\\u043c\\u043e\\u0449\\u0438\",\n          \"\\u041d\\u0435 \\u043f\\u043e\\u0441\\u0442\\u0440\\u0430\\u0434\\u0430\\u043b\"\n        ],\n        \"semantic_type\": \"\",\n        \"description\": \"\"\n      }\n    },\n    {\n      \"column\": \"years_of_driving_experience\",\n      \"properties\": {\n        \"dtype\": \"string\",\n        \"num_unique_values\": 3,\n        \"samples\": [\n          35.0,\n          \"\\u041d\\u0435 \\u0437\\u0430\\u043f\\u043e\\u043b\\u043d\\u0435\\u043d\\u043e\"\n        ],\n        \"semantic_type\": \"\",\n        \"description\": \"\"\n      }\n    }\n  ]\n}"
            }
          },
          "metadata": {}
        }
      ],
      "source": [
        "# Загрузим файл\n",
        "for i in os.listdir():\n",
        "    if 'data_foot_part.' in i:\n",
        "      print(i)\n",
        "      with open(i, 'rb') as file:\n",
        "          data_foot_part = pickle.load(file)\n",
        "      display(data_foot_part.head())"
      ]
    },
    {
      "cell_type": "code",
      "source": [],
      "metadata": {
        "id": "cU2rng1t5mnf"
      },
      "execution_count": null,
      "outputs": []
    },
    {
      "cell_type": "code",
      "source": [
        "# Удалим невостребованные столбцы\n",
        "data_foot_part = data_foot_part.drop(columns=(['violations']))"
      ],
      "metadata": {
        "id": "2ftNYNqIjkZs"
      },
      "execution_count": null,
      "outputs": []
    },
    {
      "cell_type": "code",
      "source": [
        "# Для каждого столбца выведем на экран уникальные значения и их количество\n",
        "for i in data_foot_part.columns:\n",
        "  print(f'\\033[1m\\033[95mСтолбец {i} \\033[0m\\n Количество значений {data_foot_part[i].nunique()}  \\n {data_foot_part[i].unique()}')"
      ],
      "metadata": {
        "colab": {
          "base_uri": "https://localhost:8080/"
        },
        "outputId": "af939dad-1ebf-44c0-a164-2ee06e8080b9",
        "id": "qXtSwGAajkZs"
      },
      "execution_count": null,
      "outputs": [
        {
          "output_type": "stream",
          "name": "stdout",
          "text": [
            "\u001b[1m\u001b[95mСтолбец id \u001b[0m\n",
            " Количество значений 1408453  \n",
            " [2525237 2060303 2624862 ... 1873532 1874211 1874916]\n",
            "\u001b[1m\u001b[95mСтолбец role \u001b[0m\n",
            " Количество значений 5  \n",
            " ['Водитель', 'Пассажир', 'Велосипедист', 'Пешеход, перед ДТП находившийся в (на) ТС в к..., 'Пешеход']\n",
            "Categories (5, object): ['Велосипедист', 'Водитель', 'Пассажир', 'Пешеход',\n",
            "                         'Пешеход, перед ДТП находившийся в (на) ТС в к...]\n",
            "\u001b[1m\u001b[95mСтолбец gender \u001b[0m\n",
            " Количество значений 3  \n",
            " ['Мужской', 'Женский', 'Не заполнено']\n",
            "Categories (3, object): ['Женский', 'Мужской', 'Не заполнено']\n",
            "\u001b[1m\u001b[95mСтолбец health_status \u001b[0m\n",
            " Количество значений 42  \n",
            " ['Не пострадал', 'Скончался на месте ДТП до приезда скорой меди..., 'Раненый, находящийся (находившийся) на амбула..., 'Скончался в течение 7 суток', 'Скончался в течение 1 суток', ..., 'Скончался в течение 28 суток', 'Скончался в течение 23 суток', 'Скончался в течение 20 суток', 'Скончался в течение 25 суток', 'Скончался в течение 30 суток']\n",
            "Length: 42\n",
            "Categories (42, object): ['Не заполнено', 'Не пострадал',\n",
            "                          'Получил телесные повреждения с показанием к л..., 'Получил телесные повреждения с показанием к л..., ...,\n",
            "                          'Скончался на месте ДТП до приезда скорой меди..., 'Скончался на месте ДТП по прибытию скорой мед...,\n",
            "                          'Скончался на месте ДТП по прибытию скорой мед..., 'Скончался при транспортировке']\n",
            "\u001b[1m\u001b[95mСтолбец years_of_driving_experience \u001b[0m\n",
            " Количество значений 74  \n",
            " [35.0 'Не заполнено' 9.0 18.0 23.0 8.0 1.0 19.0 16.0 14.0 10.0 21.0 34.0\n",
            " 22.0 29.0 32.0 17.0 43.0 26.0 11.0 5.0 13.0 30.0 28.0 27.0 41.0 39.0 6.0\n",
            " 2.0 7.0 3.0 15.0 4.0 20.0 12.0 25.0 36.0 45.0 33.0 47.0 24.0 37.0 44.0\n",
            " 40.0 31.0 42.0 38.0 46.0 50.0 48.0 51.0 62.0 49.0 52.0 54.0 57.0 61.0\n",
            " 60.0 56.0 55.0 53.0 58.0 59.0 68.0 70.0 67.0 63.0 65.0 64.0 66.0 69.0\n",
            " 71.0 74.0 73.0]\n"
          ]
        }
      ]
    },
    {
      "cell_type": "markdown",
      "source": [
        "\n",
        "- В столбце role объединим значения, связанные с пешеходами\n",
        "- В столбце health_status отпимизикуем количество категорий\n",
        "- В столбце years_of_driving_experience введем категории по диапазону лет.\n"
      ],
      "metadata": {
        "id": "bvsq-r1fjkZs"
      }
    },
    {
      "cell_type": "markdown",
      "source": [
        " В столбце role объединим значения, связанные с пешеходами\n"
      ],
      "metadata": {
        "id": "3mKFTk6E-Pbv"
      }
    },
    {
      "cell_type": "code",
      "source": [
        "for i in tqdm(data_foot_part['role'].unique()):\n",
        "  if 'Пешеход' in i:\n",
        "    data_foot_part.loc[(data_foot_part['role']) == i, 'role'] = 'Пешеход'"
      ],
      "metadata": {
        "colab": {
          "base_uri": "https://localhost:8080/"
        },
        "outputId": "d41c45ba-989e-48f6-f411-2976bd251f1d",
        "id": "YlMaitM-_qOi"
      },
      "execution_count": null,
      "outputs": [
        {
          "output_type": "stream",
          "name": "stderr",
          "text": [
            "100%|██████████| 5/5 [00:00<00:00, 424.06it/s]\n"
          ]
        }
      ]
    },
    {
      "cell_type": "code",
      "source": [
        "data_foot_part['role'].unique()"
      ],
      "metadata": {
        "colab": {
          "base_uri": "https://localhost:8080/"
        },
        "id": "DcSrtu21A8wr",
        "outputId": "d8deddc9-1712-45e0-8e19-ab8f73139526"
      },
      "execution_count": null,
      "outputs": [
        {
          "output_type": "execute_result",
          "data": {
            "text/plain": [
              "['Водитель', 'Пассажир', 'Велосипедист', 'Пешеход']\n",
              "Categories (5, object): ['Велосипедист', 'Водитель', 'Пассажир', 'Пешеход',\n",
              "                         'Пешеход, перед ДТП находившийся в (на) ТС в к...]"
            ]
          },
          "metadata": {},
          "execution_count": 64
        }
      ]
    },
    {
      "cell_type": "markdown",
      "source": [
        "В столбце health_status отпимизикуем количество категорий.  \n",
        "Выведем на экран в алфавитном порядке.   \n",
        "После чего построим столбчатую диаграмму, чтобы определить значимые количества тех или иных значений в категориях"
      ],
      "metadata": {
        "id": "iTi3N0C7jkZt"
      }
    },
    {
      "cell_type": "code",
      "source": [
        "sorted(data_foot_part.health_status.unique().tolist())"
      ],
      "metadata": {
        "colab": {
          "base_uri": "https://localhost:8080/"
        },
        "outputId": "53b2316a-8408-4ab8-e2e7-becb1325f1c5",
        "id": "vUAghgghjkZt"
      },
      "execution_count": null,
      "outputs": [
        {
          "output_type": "execute_result",
          "data": {
            "text/plain": [
              "['Не заполнено',\n",
              " 'Не пострадал',\n",
              " 'Получил телесные повреждения с показанием к лечению в медицинских организациях (кроме разовой медицинской помощи)',\n",
              " 'Получил телесные повреждения с показанием к лечению в медицинских организациях, фактически лечение не проходил, к категории раненый не относится',\n",
              " 'Получил травмы с оказанием разовой медицинской помощи, к категории раненый не относится',\n",
              " 'Раненый, находящийся (находившийся)  на амбулаторном лечении, либо которому по характеру полученных травм обозначена необходимость амбулаторного лечения (вне зависимости от его фактического прохождения)',\n",
              " 'Раненый, находящийся (находившийся) на амбулаторном лечении, либо в условиях дневного стационара',\n",
              " 'Раненый, находящийся (находившийся) на стационарном лечении',\n",
              " 'Скончался в течение 1 суток',\n",
              " 'Скончался в течение 10 суток',\n",
              " 'Скончался в течение 11 суток',\n",
              " 'Скончался в течение 12 суток',\n",
              " 'Скончался в течение 13 суток',\n",
              " 'Скончался в течение 14 суток',\n",
              " 'Скончался в течение 15 суток',\n",
              " 'Скончался в течение 16 суток',\n",
              " 'Скончался в течение 17 суток',\n",
              " 'Скончался в течение 18 суток',\n",
              " 'Скончался в течение 19 суток',\n",
              " 'Скончался в течение 2 суток',\n",
              " 'Скончался в течение 20 суток',\n",
              " 'Скончался в течение 21 суток',\n",
              " 'Скончался в течение 22 суток',\n",
              " 'Скончался в течение 23 суток',\n",
              " 'Скончался в течение 24 суток',\n",
              " 'Скончался в течение 25 суток',\n",
              " 'Скончался в течение 26 суток',\n",
              " 'Скончался в течение 27 суток',\n",
              " 'Скончался в течение 28 суток',\n",
              " 'Скончался в течение 29 суток',\n",
              " 'Скончался в течение 3 суток',\n",
              " 'Скончался в течение 30 суток',\n",
              " 'Скончался в течение 4 суток',\n",
              " 'Скончался в течение 5 суток',\n",
              " 'Скончался в течение 6 суток',\n",
              " 'Скончался в течение 7 суток',\n",
              " 'Скончался в течение 8 суток',\n",
              " 'Скончался в течение 9 суток',\n",
              " 'Скончался на месте ДТП до приезда скорой медицинской помощи',\n",
              " 'Скончался на месте ДТП по прибытию скорой медицинской помощи, но до транспортировки в мед. организацию',\n",
              " 'Скончался на месте ДТП по прибытию скорой медицинской помощи, но до транспортировки в медицинское учреждение',\n",
              " 'Скончался при транспортировке']"
            ]
          },
          "metadata": {},
          "execution_count": 65
        }
      ]
    },
    {
      "cell_type": "markdown",
      "source": [
        "Создадим категории.\n",
        "\n",
        "- 'Не заполнено'\n",
        "- 'Не пострадал'\n",
        "- 'Травмирован / ранен'\n",
        "- 'Скончался на месте ДТП'\n",
        "- 'Скончался позднее ДТП'\n"
      ],
      "metadata": {
        "id": "mFt_ZJJEjkZu"
      }
    },
    {
      "cell_type": "code",
      "execution_count": null,
      "metadata": {
        "id": "DuLq5xEsjkZu"
      },
      "outputs": [],
      "source": [
        "# понизим регистр\n",
        "data_foot_part.health_status = data_foot_part.health_status.str.lower()"
      ]
    },
    {
      "cell_type": "markdown",
      "metadata": {
        "id": "y8lAk4azjkZv"
      },
      "source": [
        "Произведем оптимизацию категорий."
      ]
    },
    {
      "cell_type": "code",
      "source": [
        "def health_status_optimization(status, mark):\n",
        "    for i in tqdm(data_foot_part['health_status'].unique()):\n",
        "      if status in i:\n",
        "        data_foot_part.loc[(data_foot_part['health_status']) == i, 'health_status'] = mark"
      ],
      "metadata": {
        "id": "vai8yWyCEtDj"
      },
      "execution_count": null,
      "outputs": []
    },
    {
      "cell_type": "code",
      "source": [
        "for i in ['телесные', 'травмы', 'ранен']:\n",
        "  health_status_optimization(i, 'Травмирован / ранен')"
      ],
      "metadata": {
        "colab": {
          "base_uri": "https://localhost:8080/"
        },
        "id": "T5GDobZIErIh",
        "outputId": "89afcdc0-fbe9-40da-cfed-bec7319c946f"
      },
      "execution_count": null,
      "outputs": [
        {
          "output_type": "stream",
          "name": "stderr",
          "text": [
            "100%|██████████| 42/42 [00:00<00:00, 76.77it/s]\n",
            "100%|██████████| 41/41 [00:00<00:00, 147.68it/s]\n",
            "100%|██████████| 40/40 [00:01<00:00, 33.01it/s]\n"
          ]
        }
      ]
    },
    {
      "cell_type": "code",
      "source": [
        "health_status_optimization('скончался в течение', 'Скончался позднее ДТП')"
      ],
      "metadata": {
        "colab": {
          "base_uri": "https://localhost:8080/"
        },
        "id": "s5oTc_qgGmVY",
        "outputId": "cc9baf4e-0126-4f5d-9f4e-e6f74edc913d"
      },
      "execution_count": null,
      "outputs": [
        {
          "output_type": "stream",
          "name": "stderr",
          "text": [
            "100%|██████████| 37/37 [00:09<00:00,  3.92it/s]\n"
          ]
        }
      ]
    },
    {
      "cell_type": "code",
      "source": [
        "for i in ['скончался на месте', 'скончался при транспортировке']:\n",
        "  health_status_optimization(i, 'Скончался на месте ДТП ')"
      ],
      "metadata": {
        "colab": {
          "base_uri": "https://localhost:8080/"
        },
        "id": "mf6bwE9GG1jH",
        "outputId": "c1650125-10c1-4c52-ab86-88600707ef9b"
      },
      "execution_count": null,
      "outputs": [
        {
          "output_type": "stream",
          "name": "stderr",
          "text": [
            "100%|██████████| 8/8 [00:00<00:00, 10.14it/s]\n",
            "100%|██████████| 6/6 [00:00<00:00, 21.70it/s]\n"
          ]
        }
      ]
    },
    {
      "cell_type": "code",
      "source": [
        "sorted(data_foot_part.health_status.unique().tolist())"
      ],
      "metadata": {
        "colab": {
          "base_uri": "https://localhost:8080/"
        },
        "outputId": "f65cf96d-c67b-4239-9655-b8c195da2578",
        "id": "_DPaUm_eIBx5"
      },
      "execution_count": null,
      "outputs": [
        {
          "output_type": "execute_result",
          "data": {
            "text/plain": [
              "['Скончался на месте ДТП ',\n",
              " 'Скончался позднее ДТП',\n",
              " 'Травмирован / ранен',\n",
              " 'не заполнено',\n",
              " 'не пострадал']"
            ]
          },
          "metadata": {},
          "execution_count": 71
        }
      ]
    },
    {
      "cell_type": "code",
      "source": [
        "# Для корректности дальнейшей визуализации вернем ненадолго значениям в столбце light тип данных object\n",
        "data_foot_part['health_status'] = data_foot_part['health_status'].astype('category')"
      ],
      "metadata": {
        "id": "1nDOGcS1nRI7"
      },
      "execution_count": null,
      "outputs": []
    },
    {
      "cell_type": "code",
      "source": [
        "# построим столбчатую диаграмму, чтобы определить значимые количества тех или иных значений\n",
        "categ_disp(data_foot_part, 'health_status', 'Вред здоровью')"
      ],
      "metadata": {
        "colab": {
          "base_uri": "https://localhost:8080/",
          "height": 501
        },
        "id": "z1h8n0rpMRUq",
        "outputId": "6819195a-6335-4ab7-d5b3-9ebaa02b2659"
      },
      "execution_count": null,
      "outputs": [
        {
          "output_type": "display_data",
          "data": {
            "text/plain": [
              "<Figure size 700x500 with 1 Axes>"
            ],
            "image/png": "[encoded data removed]"
          },
          "metadata": {}
        }
      ]
    },
    {
      "cell_type": "markdown",
      "metadata": {
        "id": "7-s9mSlOjkZz"
      },
      "source": [
        "В столбце years_of_driving_experience введем категории по диапазону лет.\n",
        "Распределим на:\n",
        "- до 5 лет включительно\n",
        "- от 5 до 10 лет включительно\n",
        "- от 10 до 20 лет включительно\n",
        "- от 20 до 30 лет включительно\n",
        "- от 30 лет и более"
      ]
    },
    {
      "cell_type": "code",
      "source": [
        "for i in tqdm(data_foot_part.query('years_of_driving_experience != \"Не заполнено\"')\\\n",
        " ['years_of_driving_experience'].unique()):\n",
        "  #if i != \"Не заполнено\":\n",
        "  try:\n",
        "    if i > 0:\n",
        "      if i <= 5:\n",
        "          data_foot_part.loc[(data_foot_part['years_of_driving_experience']) == i,\n",
        "                            'years_of_driving_range'] = 'до 5 лет'\n",
        "      elif i <= 10:\n",
        "          data_foot_part.loc[(data_foot_part['years_of_driving_experience']) == i,\n",
        "                            'years_of_driving_range'] = 'от 5 до 10 лет'\n",
        "      elif i <= 20:\n",
        "          data_foot_part.loc[(data_foot_part['years_of_driving_experience']) == i,\n",
        "                            'years_of_driving_range'] = 'от 10 до 20 лет'\n",
        "      elif i <= 30:\n",
        "          data_foot_part.loc[(data_foot_part['years_of_driving_experience']) == i,\n",
        "                            'years_of_driving_range'] = 'от 20 до 30 лет'\n",
        "      elif i > 30:\n",
        "          data_foot_part.loc[(data_foot_part['years_of_driving_experience']) == i,\n",
        "                            'years_of_driving_range'] = 'от 30 лет и более'\n",
        "  except:\n",
        "        data_foot_part['years_of_driving_range'] = 'Не заполнено'\n",
        "\n"
      ],
      "metadata": {
        "colab": {
          "base_uri": "https://localhost:8080/"
        },
        "outputId": "692d64d2-9124-4873-f437-c1eb261c92ca",
        "id": "ho2bIdmlyq1U"
      },
      "execution_count": null,
      "outputs": [
        {
          "output_type": "stream",
          "name": "stderr",
          "text": [
            "100%|██████████| 73/73 [00:22<00:00,  3.27it/s]\n"
          ]
        }
      ]
    },
    {
      "cell_type": "code",
      "source": [
        "# заполним пропущенные значения\n",
        "data_foot_part.years_of_driving_range = data_foot_part.years_of_driving_range.fillna('Не заполнено')"
      ],
      "metadata": {
        "id": "YMLNHRg1PywN"
      },
      "execution_count": null,
      "outputs": []
    },
    {
      "cell_type": "code",
      "source": [
        "# удалим ненужный столбец\n",
        "data_foot_part = data_foot_part.drop(columns='years_of_driving_experience')"
      ],
      "metadata": {
        "id": "3sAlSF9ajkZ1"
      },
      "execution_count": null,
      "outputs": []
    },
    {
      "cell_type": "code",
      "source": [
        "# изменим тип данных в столбце years_of_driving_range на category\n",
        "ch_type(data_foot_part, 'years_of_driving_range', 'category')"
      ],
      "metadata": {
        "id": "AhR96kLP07Vr"
      },
      "execution_count": null,
      "outputs": []
    },
    {
      "cell_type": "code",
      "source": [
        "data_foot_part.info()"
      ],
      "metadata": {
        "colab": {
          "base_uri": "https://localhost:8080/"
        },
        "id": "6Hi7faux1xp_",
        "outputId": "4d2b7b45-e5c7-43cb-c814-05dae44e9d6a"
      },
      "execution_count": null,
      "outputs": [
        {
          "output_type": "stream",
          "name": "stdout",
          "text": [
            "<class 'pandas.core.frame.DataFrame'>\n",
            "RangeIndex: 3466960 entries, 0 to 3466959\n",
            "Data columns (total 5 columns):\n",
            " #   Column                  Dtype   \n",
            "---  ------                  -----   \n",
            " 0   id                      int32   \n",
            " 1   role                    category\n",
            " 2   gender                  category\n",
            " 3   health_status           category\n",
            " 4   years_of_driving_range  category\n",
            "dtypes: category(4), int32(1)\n",
            "memory usage: 26.5 MB\n"
          ]
        }
      ]
    },
    {
      "cell_type": "markdown",
      "source": [
        "Сохраним датафрейм на диск в формате .csv.   \n",
        "После чего обратимся к DataLens  и построим дашборд со следующими чартами для людей участников ДТП:\n",
        "- категория участника ДТП\n",
        "- пол участника ДТП\n",
        "- ущерб здоровью\n",
        "- водительский стаж\n",
        "\n",
        " Соединим с файлом data_foot_part и рассмотрим указанные выше категории в разрезе\n",
        " - количества ДТП\n",
        " - участников ДТП\n",
        " - раненых и травмированных\n",
        " - погибших\n",
        " - доля погибщих к количеству участников ДТП\n",
        " - доля пострадавших к количеству участников ДТП\n",
        "\n",
        "\n",
        "\n",
        "  Соединим с файлом data_base и рассмотрим указанные выше категории в разрезе\n",
        " - категории освещенности\n",
        " - погоды\n",
        " - категории ДТП - столкновение, наезд\n",
        "\n",
        "\n",
        "Установим фильтры:\n",
        "- категория участника ДТП\n",
        "- пол участника ДТП\n",
        "- ущерб здоровью\n",
        "- водительский стаж\n",
        "\n"
      ],
      "metadata": {
        "id": "eUhHL-MejkZ2"
      }
    },
    {
      "cell_type": "code",
      "source": [
        "# Поскольку выгружаемый файл csv займет на ддиске более 200 МВ, нам придется разделить его на две части и вырузить по частям\n",
        "# Выведем столбцы\n",
        "data_foot_part.columns"
      ],
      "metadata": {
        "colab": {
          "base_uri": "https://localhost:8080/"
        },
        "outputId": "d01bfbb4-f43d-49ec-e759-ca47ceb93786",
        "id": "UYcFGyazjkZ2"
      },
      "execution_count": null,
      "outputs": [
        {
          "output_type": "execute_result",
          "data": {
            "text/plain": [
              "Index(['id', 'role', 'gender', 'health_status', 'years_of_driving_range'], dtype='object')"
            ]
          },
          "metadata": {},
          "execution_count": 79
        }
      ]
    },
    {
      "cell_type": "code",
      "source": [
        "# Сохраним данные на диск в формате .csv\n",
        "#data_foot_part.to_csv(r'/content/drive/MyDrive/Мастерская_Аналитика_ДТП/data_foot_part.csv', sep=',')"
      ],
      "metadata": {
        "id": "nIreYsW4jkZ3"
      },
      "execution_count": null,
      "outputs": []
    },
    {
      "cell_type": "code",
      "source": [
        "# Разделим  data_foot_part на две части\n",
        "data_foot_part_part_1 = data_foot_part[data_foot_part.columns[:3]]\n",
        "data_foot_part_part_2 = data_foot_part[['id'] + data_foot_part.columns[3:4].tolist() ]\n",
        "data_foot_part_part_3 = data_foot_part[['id'] + data_foot_part.columns[4:].tolist() ]\n",
        "print(f'data_foot_part_part_1\\n {data_foot_part_part_1.head(2)} \\n\\n \\\n",
        "data_foot_part_part_2 \\n{data_foot_part_part_2.head(2)}')\n"
      ],
      "metadata": {
        "colab": {
          "base_uri": "https://localhost:8080/"
        },
        "outputId": "4457769a-7747-42af-f9d7-4b69091f1971",
        "id": "r11WQ7ZgjkZ3"
      },
      "execution_count": null,
      "outputs": [
        {
          "output_type": "stream",
          "name": "stdout",
          "text": [
            "data_foot_part_part_1\n",
            "         id      role   gender\n",
            "0  2525237  Водитель  Мужской\n",
            "1  2060303  Пассажир  Женский \n",
            "\n",
            " data_foot_part_part_2 \n",
            "        id health_status\n",
            "0  2525237  не пострадал\n",
            "1  2060303  не пострадал\n"
          ]
        }
      ]
    },
    {
      "cell_type": "code",
      "source": [
        "# Сохраним все части на диск в формате .csv\n",
        "data_foot_part_part_1.to_csv(r'/content/drive/MyDrive/Мастерская_Аналитика_ДТП/data_foot_part_part_1.csv', sep=',')\n",
        "data_foot_part_part_2.to_csv(r'/content/drive/MyDrive/Мастерская_Аналитика_ДТП/data_foot_part_part_2.csv', sep=',')\n",
        "data_foot_part_part_3.to_csv(r'/content/drive/MyDrive/Мастерская_Аналитика_ДТП/data_foot_part_part_3.csv', sep=',')\n"
      ],
      "metadata": {
        "id": "gx4jjYqojkZ4"
      },
      "execution_count": null,
      "outputs": []
    },
    {
      "cell_type": "code",
      "source": [
        "# Для проверки предположения сохраним часть датасета с данными о тяжести вреда здоровью\n",
        "#data_foot_part[['id', 'health_status']].to_csv(r'/content/drive/MyDrive/Мастерская_Аналитика_ДТП/data_foot_part_part_1.csv', sep=',')"
      ],
      "metadata": {
        "id": "0gq96Dta7xjC"
      },
      "execution_count": null,
      "outputs": []
    },
    {
      "cell_type": "code",
      "source": [
        "del data_foot_part"
      ],
      "metadata": {
        "id": "H3BH_FCTjkZ4"
      },
      "execution_count": null,
      "outputs": []
    },
    {
      "cell_type": "markdown",
      "source": [
        "# [Ссылка на дашборд](https://datalens.yandex/s1rbmtass104g)"
      ],
      "metadata": {
        "id": "-38FeTFz6coE"
      }
    },
    {
      "cell_type": "code",
      "source": [],
      "metadata": {
        "id": "jWGFx6Ta6tHb"
      },
      "execution_count": null,
      "outputs": []
    }
  ]
}